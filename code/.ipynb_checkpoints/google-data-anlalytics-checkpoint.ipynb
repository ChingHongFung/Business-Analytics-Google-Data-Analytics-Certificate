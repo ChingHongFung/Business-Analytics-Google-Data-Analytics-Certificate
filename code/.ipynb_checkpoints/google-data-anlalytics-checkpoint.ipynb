{
 "cells": [
  {
   "cell_type": "markdown",
   "id": "02661834",
   "metadata": {
    "_execution_state": "idle",
    "_uuid": "051d70d956493feee0c6d64651c6a088724dca2a",
    "papermill": {
     "duration": 0.024872,
     "end_time": "2021-09-11T15:34:40.169823",
     "exception": false,
     "start_time": "2021-09-11T15:34:40.144951",
     "status": "completed"
    },
    "tags": []
   },
   "source": [
    "## Google Data Analytics Professional Certificate: Capstone Project\n",
    "\n",
    "### Analysis of a fictional bike-share company Cyclistic\n",
    "\n",
    "**Ching Hong Fung**\n",
    "\n",
    "**11/09/2021**\n",
    "\n",
    "The following analysis will follow the 6 steps guidance taught in the courses namely Ask, Prepare, Process, Analyse, Share and Act. Hopefully by carrying out tasks in this logical, sequential manner, we will be able to draw some valuable insights for the business."
   ]
  },
  {
   "cell_type": "markdown",
   "id": "bfd2ecc7",
   "metadata": {
    "papermill": {
     "duration": 0.024296,
     "end_time": "2021-09-11T15:34:40.217457",
     "exception": false,
     "start_time": "2021-09-11T15:34:40.193161",
     "status": "completed"
    },
    "tags": []
   },
   "source": [
    "## 1) Ask Phase\n",
    "\n",
    "The business task is to promote future growth through strategic marketing schemes. Our director of marketing, Moreno believes that the best approach is to maximise conversion rate of casual riders to annual members. This is backed by our finance analysts who concluded that members make up a larger proportion of profits as compared to one-off customers. In order to devise the most effective strategy, we shall analyse past business data and come up with recommendation plans to move ahead with. Here is a list of the key stakeholders we should be mindful of:\n",
    "    \n",
    "    Cyclistic: Director of marketing, Marketing analytics team, Executive team\n",
    "    Customers: Members, Casual riders, Riders of special needs\n",
    "    Competitors and Regulators\n",
    "\n",
    "A few simple questions could be considered as a starter. What are my stakeholders saying their problems are? In particular, how do their problems differ among internal parties to customers, competitors and regulators? These would influence how the next phases of our analysis shape out. The issue at hand could be seen as a 'categorisation and pattern recognition' problem. The objective is to discover consuming trends for the different customers and gain an insight in how one could be converted to the other. \n",
    "\n",
    "As director of the marketing team, Moreno would be inclined to prove her hypothesis with assistance from the marketing analytics team. She has a level of technical expertise in data analytics but might struggle to balance technicality with the wider business interests as a manager. The executives are generally more result-driven; they may not be interested in all the ins-and-outs of the processes but are highly evaluative of any proposed plans. As for the marketing analytics team, we should attempt to analyse the data in the most unbiased manner possible, allowing us to make data-driven decisions.\n",
    "\n",
    "Basic assumptions could be made regarding the concerns of the customers. Members should be interested in geographical availability (ie. the distribution of bikes and docking stations throughout the city) as their needs mostly align with daily commute. Casual riders are more concerned about the pricing of services as their intention lies mostly with leisure and they hold no prior loyalty to a particular brand. Riders of special needs focus on the alternative bikes Cyclistic provides. These market segments help break our analyses into smaller subsets.\n",
    "\n",
    "Competitors come in different categories and have different interests. An alternative transport method such as ride-sharing services (e.g. Uber, Bolt) could pose a threat to the bike-share industry. Meanwhile, other companies within the bike-share sector (e.g. Divvy in Chicago) could compete for market share with Cyclistic. Furthermore, submarkets such as bikes specific for the disabled communities could be divided as its own niche customer source. Lastly, any potential plans should be carried out with adherance to restrictions imposed by the regulators both in the transport and marketing fields."
   ]
  },
  {
   "cell_type": "markdown",
   "id": "ab51ad47",
   "metadata": {
    "papermill": {
     "duration": 0.023325,
     "end_time": "2021-09-11T15:34:40.265572",
     "exception": false,
     "start_time": "2021-09-11T15:34:40.242247",
     "status": "completed"
    },
    "tags": []
   },
   "source": [
    "## 2) Prepare Phase\n",
    "\n",
    "As Cyclistic is a fictional company designed for the purpose of this case study, there is no real business data available. We have to borrow data from a company of similar scale called Divvy which is also based in Chicago. Under the license agreement (https://www.divvybikes.com/data-license-agreement), Motivate International Inc. has allowed public access to Divvy internal data. Given that data is provided by the company, it could be deemed good data as it fulfils the five elements of the ROCCC acronym: reliable, original, comprehensive, current and cited. Data is updated monthly and consolidated into quarterly summaries every three months; it contains first-party information that covers relevant transaction information for our analysis.\n",
    "\n",
    "Data is accessible through Amazon AWS (https://www.divvybikes.com/data-license-agreement) cloud platform. For the following analysis, the previous 12 months of data (September 2020 to August 2021) have been downloaded. Data is stored as csv files in monthly batches. Features of the data, organised as columns of the table, include 'ride\\_id', 'rideable\\_type', 'started\\_at', 'ended\\_at', 'start\\_station\\_name', 'start\\_station\\_id', 'end\\_station\\_name', 'end\\_station\\_id', 'start\\_lat', 'start\\_lng', end\\_lat', 'end\\_lng' and 'member\\_casual' while rows represent observation (ie. transactions recorded on the application). Slight concerns exist with some cells being blank; this will be analysed more in the process phase when we will clean the data."
   ]
  },
  {
   "cell_type": "markdown",
   "id": "810789ca",
   "metadata": {
    "papermill": {
     "duration": 0.023309,
     "end_time": "2021-09-11T15:34:40.312349",
     "exception": false,
     "start_time": "2021-09-11T15:34:40.289040",
     "status": "completed"
    },
    "tags": []
   },
   "source": [
    "## 3) Process Phase\n",
    "\n",
    "Given data is readily available in the csv format, there are two obvious choices of tools for data cleaning. We could directly use a spreadsheet software such as Excel or Google sheets or import data into RStudio for processing. There is no point using SQL for this task as we are not running queries with a database. Looking at one of the csv files \"202009-divvy-tripdata.csv\" with September, 2020 data, the total number of rows of data is around 500,000. This intermediate size of data could still be handled in Excel relatively quickly. \n",
    "\n",
    "In order to verify integrity of the data, filtering, sorting and conditional formatiing were used to view each of the columns separately to check if any unexpected values pop up. In general, the start and end dates fall within the given month while the latitude and longitude values are within reasonable range of the Chicago area. However, there are quite a few blanks cells for the start and end station names/ids. There is not an apparent pattern for their appearances. Possible reasons for these could be that the absent ids correspond to out-of-use or newly installed docking stations that the system could not recognise; perhaps the customers did not dock their bikes properly onto the dockers so the system did not record the data. Nonetheless, these cells do not form a large proportion of the dataset; in the \"202009-divvy-tripdata.csv\" file, they only contribute to around 10,000 transactions (2\\% of all data). Hence, we decided to keep the data as it should not lead to much variance of our analyses.\n",
    "\n",
    "For preparation of analyses later, two extra columns are created: 'ride\\_length' is the time span of each trip that is calculated as the difference between 'ended\\_at' and 'started\\_at'; 'day\\_of\\_week' shows the day of the week which is calculated from 'started\\_at' using the WEEKDAY function. These shall be useful when we analyse the how members and casual riders utilise the bikes later."
   ]
  },
  {
   "cell_type": "markdown",
   "id": "66071da7",
   "metadata": {
    "papermill": {
     "duration": 0.022605,
     "end_time": "2021-09-11T15:34:40.357718",
     "exception": false,
     "start_time": "2021-09-11T15:34:40.335113",
     "status": "completed"
    },
    "tags": []
   },
   "source": [
    "## 4) Process Phase\n",
    "\n",
    "The processed csv files are imported into RStudio where most of the analyses are carried out. Here is a RMarkdown summary of the processes.\n",
    "\n",
    "### i) Setting up environment and loading data\n",
    "\n",
    "Loading up a few packages to help with data wrangling. Setting the work directory to where the csv files are saved."
   ]
  },
  {
   "cell_type": "code",
   "execution_count": 1,
   "id": "9ee409f8",
   "metadata": {
    "execution": {
     "iopub.execute_input": "2021-09-11T15:34:40.411626Z",
     "iopub.status.busy": "2021-09-11T15:34:40.408217Z",
     "iopub.status.idle": "2021-09-11T15:34:41.934514Z",
     "shell.execute_reply": "2021-09-11T15:34:41.932739Z"
    },
    "papermill": {
     "duration": 1.554351,
     "end_time": "2021-09-11T15:34:41.934733",
     "exception": false,
     "start_time": "2021-09-11T15:34:40.380382",
     "status": "completed"
    },
    "tags": []
   },
   "outputs": [
    {
     "name": "stderr",
     "output_type": "stream",
     "text": [
      "── \u001b[1mAttaching packages\u001b[22m ─────────────────────────────────────── tidyverse 1.3.1 ──\n",
      "\n",
      "\u001b[32m✔\u001b[39m \u001b[34mggplot2\u001b[39m 3.3.5     \u001b[32m✔\u001b[39m \u001b[34mpurrr  \u001b[39m 0.3.4\n",
      "\u001b[32m✔\u001b[39m \u001b[34mtibble \u001b[39m 3.1.4     \u001b[32m✔\u001b[39m \u001b[34mdplyr  \u001b[39m 1.0.7\n",
      "\u001b[32m✔\u001b[39m \u001b[34mtidyr  \u001b[39m 1.1.3     \u001b[32m✔\u001b[39m \u001b[34mstringr\u001b[39m 1.4.0\n",
      "\u001b[32m✔\u001b[39m \u001b[34mreadr  \u001b[39m 2.0.1     \u001b[32m✔\u001b[39m \u001b[34mforcats\u001b[39m 0.5.1\n",
      "\n",
      "── \u001b[1mConflicts\u001b[22m ────────────────────────────────────────── tidyverse_conflicts() ──\n",
      "\u001b[31m✖\u001b[39m \u001b[34mdplyr\u001b[39m::\u001b[32mfilter()\u001b[39m masks \u001b[34mstats\u001b[39m::filter()\n",
      "\u001b[31m✖\u001b[39m \u001b[34mdplyr\u001b[39m::\u001b[32mlag()\u001b[39m    masks \u001b[34mstats\u001b[39m::lag()\n",
      "\n",
      "\n",
      "Attaching package: ‘lubridate’\n",
      "\n",
      "\n",
      "The following objects are masked from ‘package:base’:\n",
      "\n",
      "    date, intersect, setdiff, union\n",
      "\n",
      "\n"
     ]
    },
    {
     "data": {
      "text/html": [
       "<style>\n",
       ".list-inline {list-style: none; margin:0; padding: 0}\n",
       ".list-inline>li {display: inline-block}\n",
       ".list-inline>li:not(:last-child)::after {content: \"\\00b7\"; padding: 0 .5ex}\n",
       "</style>\n",
       "<ol class=list-inline><li>'202009-divvy-tripdata.csv'</li><li>'202010-divvy-tripdata.csv'</li><li>'202011-divvy-tripdata.csv'</li><li>'202012-divvy-tripdata.csv'</li><li>'202101-divvy-tripdata.csv'</li><li>'202102-divvy-tripdata.csv'</li><li>'202103-divvy-tripdata.csv'</li><li>'202104-divvy-tripdata.csv'</li><li>'202105-divvy-tripdata.csv'</li><li>'202106-divvy-tripdata.csv'</li><li>'202107-divvy-tripdata.csv'</li><li>'202108-divvy-tripdata.csv'</li></ol>\n"
      ],
      "text/latex": [
       "\\begin{enumerate*}\n",
       "\\item '202009-divvy-tripdata.csv'\n",
       "\\item '202010-divvy-tripdata.csv'\n",
       "\\item '202011-divvy-tripdata.csv'\n",
       "\\item '202012-divvy-tripdata.csv'\n",
       "\\item '202101-divvy-tripdata.csv'\n",
       "\\item '202102-divvy-tripdata.csv'\n",
       "\\item '202103-divvy-tripdata.csv'\n",
       "\\item '202104-divvy-tripdata.csv'\n",
       "\\item '202105-divvy-tripdata.csv'\n",
       "\\item '202106-divvy-tripdata.csv'\n",
       "\\item '202107-divvy-tripdata.csv'\n",
       "\\item '202108-divvy-tripdata.csv'\n",
       "\\end{enumerate*}\n"
      ],
      "text/markdown": [
       "1. '202009-divvy-tripdata.csv'\n",
       "2. '202010-divvy-tripdata.csv'\n",
       "3. '202011-divvy-tripdata.csv'\n",
       "4. '202012-divvy-tripdata.csv'\n",
       "5. '202101-divvy-tripdata.csv'\n",
       "6. '202102-divvy-tripdata.csv'\n",
       "7. '202103-divvy-tripdata.csv'\n",
       "8. '202104-divvy-tripdata.csv'\n",
       "9. '202105-divvy-tripdata.csv'\n",
       "10. '202106-divvy-tripdata.csv'\n",
       "11. '202107-divvy-tripdata.csv'\n",
       "12. '202108-divvy-tripdata.csv'\n",
       "\n",
       "\n"
      ],
      "text/plain": [
       " [1] \"202009-divvy-tripdata.csv\" \"202010-divvy-tripdata.csv\"\n",
       " [3] \"202011-divvy-tripdata.csv\" \"202012-divvy-tripdata.csv\"\n",
       " [5] \"202101-divvy-tripdata.csv\" \"202102-divvy-tripdata.csv\"\n",
       " [7] \"202103-divvy-tripdata.csv\" \"202104-divvy-tripdata.csv\"\n",
       " [9] \"202105-divvy-tripdata.csv\" \"202106-divvy-tripdata.csv\"\n",
       "[11] \"202107-divvy-tripdata.csv\" \"202108-divvy-tripdata.csv\""
      ]
     },
     "metadata": {},
     "output_type": "display_data"
    }
   ],
   "source": [
    "library(tidyverse)  #helps wrangle data\n",
    "library(lubridate)  #helps wrangle date attributes\n",
    "library(ggplot2)  #helps visualize data\n",
    "list.files(path = \"../data/divvy-trip-data-recent-12-months\")"
   ]
  },
  {
   "cell_type": "markdown",
   "id": "fcdeb3d9",
   "metadata": {
    "papermill": {
     "duration": 0.027232,
     "end_time": "2021-09-11T15:34:41.989040",
     "exception": false,
     "start_time": "2021-09-11T15:34:41.961808",
     "status": "completed"
    },
    "tags": []
   },
   "source": [
    "Loading the twelve csv files into dataframes."
   ]
  },
  {
   "cell_type": "code",
   "execution_count": 2,
   "id": "67405624",
   "metadata": {
    "execution": {
     "iopub.execute_input": "2021-09-11T15:34:42.080996Z",
     "iopub.status.busy": "2021-09-11T15:34:42.044905Z",
     "iopub.status.idle": "2021-09-11T15:36:04.203530Z",
     "shell.execute_reply": "2021-09-11T15:36:04.202161Z"
    },
    "papermill": {
     "duration": 82.189276,
     "end_time": "2021-09-11T15:36:04.203727",
     "exception": false,
     "start_time": "2021-09-11T15:34:42.014451",
     "status": "completed"
    },
    "tags": []
   },
   "outputs": [],
   "source": [
    "m8_2021 <- read.csv(\"../input/divvy-trip-data-recent-12-months/202108-divvy-tripdata.csv\")\n",
    "m7_2021 <- read.csv(\"../input/divvy-trip-data-recent-12-months/202107-divvy-tripdata.csv\")\n",
    "m6_2021 <- read.csv(\"../input/divvy-trip-data-recent-12-months/202106-divvy-tripdata.csv\")\n",
    "m5_2021 <- read.csv(\"../input/divvy-trip-data-recent-12-months/202105-divvy-tripdata.csv\")\n",
    "m4_2021 <- read.csv(\"../input/divvy-trip-data-recent-12-months/202104-divvy-tripdata.csv\")\n",
    "m3_2021 <- read.csv(\"../input/divvy-trip-data-recent-12-months/202103-divvy-tripdata.csv\")\n",
    "m2_2021 <- read.csv(\"../input/divvy-trip-data-recent-12-months/202102-divvy-tripdata.csv\")\n",
    "m1_2021 <- read.csv(\"../input/divvy-trip-data-recent-12-months/202101-divvy-tripdata.csv\")\n",
    "m12_2020 <- read.csv(\"../input/divvy-trip-data-recent-12-months/202012-divvy-tripdata.csv\")\n",
    "m11_2020 <- read.csv(\"../input/divvy-trip-data-recent-12-months/202011-divvy-tripdata.csv\")\n",
    "m10_2020 <- read.csv(\"../input/divvy-trip-data-recent-12-months/202010-divvy-tripdata.csv\")\n",
    "m9_2020 <- read.csv(\"../input/divvy-trip-data-recent-12-months/202009-divvy-tripdata.csv\")"
   ]
  },
  {
   "cell_type": "markdown",
   "id": "937b06e1",
   "metadata": {
    "papermill": {
     "duration": 0.024793,
     "end_time": "2021-09-11T15:36:04.253854",
     "exception": false,
     "start_time": "2021-09-11T15:36:04.229061",
     "status": "completed"
    },
    "tags": []
   },
   "source": [
    "## ii) Wrangle data and combine into a single dataframe\n",
    "Using the colnames() function to check all the csv files have the same column attributes."
   ]
  },
  {
   "cell_type": "code",
   "execution_count": 3,
   "id": "450241ce",
   "metadata": {
    "execution": {
     "iopub.execute_input": "2021-09-11T15:36:04.310712Z",
     "iopub.status.busy": "2021-09-11T15:36:04.309016Z",
     "iopub.status.idle": "2021-09-11T15:36:04.393831Z",
     "shell.execute_reply": "2021-09-11T15:36:04.392161Z"
    },
    "papermill": {
     "duration": 0.114686,
     "end_time": "2021-09-11T15:36:04.394012",
     "exception": false,
     "start_time": "2021-09-11T15:36:04.279326",
     "status": "completed"
    },
    "tags": []
   },
   "outputs": [
    {
     "data": {
      "text/html": [
       "<style>\n",
       ".list-inline {list-style: none; margin:0; padding: 0}\n",
       ".list-inline>li {display: inline-block}\n",
       ".list-inline>li:not(:last-child)::after {content: \"\\00b7\"; padding: 0 .5ex}\n",
       "</style>\n",
       "<ol class=list-inline><li>'ride_id'</li><li>'rideable_type'</li><li>'started_at'</li><li>'ended_at'</li><li>'start_station_name'</li><li>'start_station_id'</li><li>'end_station_name'</li><li>'end_station_id'</li><li>'start_lat'</li><li>'start_lng'</li><li>'end_lat'</li><li>'end_lng'</li><li>'member_casual'</li><li>'ride_length'</li><li>'day_of_week'</li></ol>\n"
      ],
      "text/latex": [
       "\\begin{enumerate*}\n",
       "\\item 'ride\\_id'\n",
       "\\item 'rideable\\_type'\n",
       "\\item 'started\\_at'\n",
       "\\item 'ended\\_at'\n",
       "\\item 'start\\_station\\_name'\n",
       "\\item 'start\\_station\\_id'\n",
       "\\item 'end\\_station\\_name'\n",
       "\\item 'end\\_station\\_id'\n",
       "\\item 'start\\_lat'\n",
       "\\item 'start\\_lng'\n",
       "\\item 'end\\_lat'\n",
       "\\item 'end\\_lng'\n",
       "\\item 'member\\_casual'\n",
       "\\item 'ride\\_length'\n",
       "\\item 'day\\_of\\_week'\n",
       "\\end{enumerate*}\n"
      ],
      "text/markdown": [
       "1. 'ride_id'\n",
       "2. 'rideable_type'\n",
       "3. 'started_at'\n",
       "4. 'ended_at'\n",
       "5. 'start_station_name'\n",
       "6. 'start_station_id'\n",
       "7. 'end_station_name'\n",
       "8. 'end_station_id'\n",
       "9. 'start_lat'\n",
       "10. 'start_lng'\n",
       "11. 'end_lat'\n",
       "12. 'end_lng'\n",
       "13. 'member_casual'\n",
       "14. 'ride_length'\n",
       "15. 'day_of_week'\n",
       "\n",
       "\n"
      ],
      "text/plain": [
       " [1] \"ride_id\"            \"rideable_type\"      \"started_at\"        \n",
       " [4] \"ended_at\"           \"start_station_name\" \"start_station_id\"  \n",
       " [7] \"end_station_name\"   \"end_station_id\"     \"start_lat\"         \n",
       "[10] \"start_lng\"          \"end_lat\"            \"end_lng\"           \n",
       "[13] \"member_casual\"      \"ride_length\"        \"day_of_week\"       "
      ]
     },
     "metadata": {},
     "output_type": "display_data"
    },
    {
     "data": {
      "text/html": [
       "<style>\n",
       ".list-inline {list-style: none; margin:0; padding: 0}\n",
       ".list-inline>li {display: inline-block}\n",
       ".list-inline>li:not(:last-child)::after {content: \"\\00b7\"; padding: 0 .5ex}\n",
       "</style>\n",
       "<ol class=list-inline><li>'ride_id'</li><li>'rideable_type'</li><li>'started_at'</li><li>'ended_at'</li><li>'start_station_name'</li><li>'start_station_id'</li><li>'end_station_name'</li><li>'end_station_id'</li><li>'start_lat'</li><li>'start_lng'</li><li>'end_lat'</li><li>'end_lng'</li><li>'member_casual'</li><li>'ride_length'</li><li>'day_of_week'</li></ol>\n"
      ],
      "text/latex": [
       "\\begin{enumerate*}\n",
       "\\item 'ride\\_id'\n",
       "\\item 'rideable\\_type'\n",
       "\\item 'started\\_at'\n",
       "\\item 'ended\\_at'\n",
       "\\item 'start\\_station\\_name'\n",
       "\\item 'start\\_station\\_id'\n",
       "\\item 'end\\_station\\_name'\n",
       "\\item 'end\\_station\\_id'\n",
       "\\item 'start\\_lat'\n",
       "\\item 'start\\_lng'\n",
       "\\item 'end\\_lat'\n",
       "\\item 'end\\_lng'\n",
       "\\item 'member\\_casual'\n",
       "\\item 'ride\\_length'\n",
       "\\item 'day\\_of\\_week'\n",
       "\\end{enumerate*}\n"
      ],
      "text/markdown": [
       "1. 'ride_id'\n",
       "2. 'rideable_type'\n",
       "3. 'started_at'\n",
       "4. 'ended_at'\n",
       "5. 'start_station_name'\n",
       "6. 'start_station_id'\n",
       "7. 'end_station_name'\n",
       "8. 'end_station_id'\n",
       "9. 'start_lat'\n",
       "10. 'start_lng'\n",
       "11. 'end_lat'\n",
       "12. 'end_lng'\n",
       "13. 'member_casual'\n",
       "14. 'ride_length'\n",
       "15. 'day_of_week'\n",
       "\n",
       "\n"
      ],
      "text/plain": [
       " [1] \"ride_id\"            \"rideable_type\"      \"started_at\"        \n",
       " [4] \"ended_at\"           \"start_station_name\" \"start_station_id\"  \n",
       " [7] \"end_station_name\"   \"end_station_id\"     \"start_lat\"         \n",
       "[10] \"start_lng\"          \"end_lat\"            \"end_lng\"           \n",
       "[13] \"member_casual\"      \"ride_length\"        \"day_of_week\"       "
      ]
     },
     "metadata": {},
     "output_type": "display_data"
    },
    {
     "data": {
      "text/html": [
       "<style>\n",
       ".list-inline {list-style: none; margin:0; padding: 0}\n",
       ".list-inline>li {display: inline-block}\n",
       ".list-inline>li:not(:last-child)::after {content: \"\\00b7\"; padding: 0 .5ex}\n",
       "</style>\n",
       "<ol class=list-inline><li>'ride_id'</li><li>'rideable_type'</li><li>'started_at'</li><li>'ended_at'</li><li>'start_station_name'</li><li>'start_station_id'</li><li>'end_station_name'</li><li>'end_station_id'</li><li>'start_lat'</li><li>'start_lng'</li><li>'end_lat'</li><li>'end_lng'</li><li>'member_casual'</li><li>'ride_length'</li><li>'day_of_week'</li></ol>\n"
      ],
      "text/latex": [
       "\\begin{enumerate*}\n",
       "\\item 'ride\\_id'\n",
       "\\item 'rideable\\_type'\n",
       "\\item 'started\\_at'\n",
       "\\item 'ended\\_at'\n",
       "\\item 'start\\_station\\_name'\n",
       "\\item 'start\\_station\\_id'\n",
       "\\item 'end\\_station\\_name'\n",
       "\\item 'end\\_station\\_id'\n",
       "\\item 'start\\_lat'\n",
       "\\item 'start\\_lng'\n",
       "\\item 'end\\_lat'\n",
       "\\item 'end\\_lng'\n",
       "\\item 'member\\_casual'\n",
       "\\item 'ride\\_length'\n",
       "\\item 'day\\_of\\_week'\n",
       "\\end{enumerate*}\n"
      ],
      "text/markdown": [
       "1. 'ride_id'\n",
       "2. 'rideable_type'\n",
       "3. 'started_at'\n",
       "4. 'ended_at'\n",
       "5. 'start_station_name'\n",
       "6. 'start_station_id'\n",
       "7. 'end_station_name'\n",
       "8. 'end_station_id'\n",
       "9. 'start_lat'\n",
       "10. 'start_lng'\n",
       "11. 'end_lat'\n",
       "12. 'end_lng'\n",
       "13. 'member_casual'\n",
       "14. 'ride_length'\n",
       "15. 'day_of_week'\n",
       "\n",
       "\n"
      ],
      "text/plain": [
       " [1] \"ride_id\"            \"rideable_type\"      \"started_at\"        \n",
       " [4] \"ended_at\"           \"start_station_name\" \"start_station_id\"  \n",
       " [7] \"end_station_name\"   \"end_station_id\"     \"start_lat\"         \n",
       "[10] \"start_lng\"          \"end_lat\"            \"end_lng\"           \n",
       "[13] \"member_casual\"      \"ride_length\"        \"day_of_week\"       "
      ]
     },
     "metadata": {},
     "output_type": "display_data"
    },
    {
     "data": {
      "text/html": [
       "<style>\n",
       ".list-inline {list-style: none; margin:0; padding: 0}\n",
       ".list-inline>li {display: inline-block}\n",
       ".list-inline>li:not(:last-child)::after {content: \"\\00b7\"; padding: 0 .5ex}\n",
       "</style>\n",
       "<ol class=list-inline><li>'ride_id'</li><li>'rideable_type'</li><li>'started_at'</li><li>'ended_at'</li><li>'start_station_name'</li><li>'start_station_id'</li><li>'end_station_name'</li><li>'end_station_id'</li><li>'start_lat'</li><li>'start_lng'</li><li>'end_lat'</li><li>'end_lng'</li><li>'member_casual'</li><li>'ride_length'</li><li>'day_of_week'</li></ol>\n"
      ],
      "text/latex": [
       "\\begin{enumerate*}\n",
       "\\item 'ride\\_id'\n",
       "\\item 'rideable\\_type'\n",
       "\\item 'started\\_at'\n",
       "\\item 'ended\\_at'\n",
       "\\item 'start\\_station\\_name'\n",
       "\\item 'start\\_station\\_id'\n",
       "\\item 'end\\_station\\_name'\n",
       "\\item 'end\\_station\\_id'\n",
       "\\item 'start\\_lat'\n",
       "\\item 'start\\_lng'\n",
       "\\item 'end\\_lat'\n",
       "\\item 'end\\_lng'\n",
       "\\item 'member\\_casual'\n",
       "\\item 'ride\\_length'\n",
       "\\item 'day\\_of\\_week'\n",
       "\\end{enumerate*}\n"
      ],
      "text/markdown": [
       "1. 'ride_id'\n",
       "2. 'rideable_type'\n",
       "3. 'started_at'\n",
       "4. 'ended_at'\n",
       "5. 'start_station_name'\n",
       "6. 'start_station_id'\n",
       "7. 'end_station_name'\n",
       "8. 'end_station_id'\n",
       "9. 'start_lat'\n",
       "10. 'start_lng'\n",
       "11. 'end_lat'\n",
       "12. 'end_lng'\n",
       "13. 'member_casual'\n",
       "14. 'ride_length'\n",
       "15. 'day_of_week'\n",
       "\n",
       "\n"
      ],
      "text/plain": [
       " [1] \"ride_id\"            \"rideable_type\"      \"started_at\"        \n",
       " [4] \"ended_at\"           \"start_station_name\" \"start_station_id\"  \n",
       " [7] \"end_station_name\"   \"end_station_id\"     \"start_lat\"         \n",
       "[10] \"start_lng\"          \"end_lat\"            \"end_lng\"           \n",
       "[13] \"member_casual\"      \"ride_length\"        \"day_of_week\"       "
      ]
     },
     "metadata": {},
     "output_type": "display_data"
    },
    {
     "data": {
      "text/html": [
       "<style>\n",
       ".list-inline {list-style: none; margin:0; padding: 0}\n",
       ".list-inline>li {display: inline-block}\n",
       ".list-inline>li:not(:last-child)::after {content: \"\\00b7\"; padding: 0 .5ex}\n",
       "</style>\n",
       "<ol class=list-inline><li>'ride_id'</li><li>'rideable_type'</li><li>'started_at'</li><li>'ended_at'</li><li>'start_station_name'</li><li>'start_station_id'</li><li>'end_station_name'</li><li>'end_station_id'</li><li>'start_lat'</li><li>'start_lng'</li><li>'end_lat'</li><li>'end_lng'</li><li>'member_casual'</li><li>'ride_length'</li><li>'day_of_week'</li></ol>\n"
      ],
      "text/latex": [
       "\\begin{enumerate*}\n",
       "\\item 'ride\\_id'\n",
       "\\item 'rideable\\_type'\n",
       "\\item 'started\\_at'\n",
       "\\item 'ended\\_at'\n",
       "\\item 'start\\_station\\_name'\n",
       "\\item 'start\\_station\\_id'\n",
       "\\item 'end\\_station\\_name'\n",
       "\\item 'end\\_station\\_id'\n",
       "\\item 'start\\_lat'\n",
       "\\item 'start\\_lng'\n",
       "\\item 'end\\_lat'\n",
       "\\item 'end\\_lng'\n",
       "\\item 'member\\_casual'\n",
       "\\item 'ride\\_length'\n",
       "\\item 'day\\_of\\_week'\n",
       "\\end{enumerate*}\n"
      ],
      "text/markdown": [
       "1. 'ride_id'\n",
       "2. 'rideable_type'\n",
       "3. 'started_at'\n",
       "4. 'ended_at'\n",
       "5. 'start_station_name'\n",
       "6. 'start_station_id'\n",
       "7. 'end_station_name'\n",
       "8. 'end_station_id'\n",
       "9. 'start_lat'\n",
       "10. 'start_lng'\n",
       "11. 'end_lat'\n",
       "12. 'end_lng'\n",
       "13. 'member_casual'\n",
       "14. 'ride_length'\n",
       "15. 'day_of_week'\n",
       "\n",
       "\n"
      ],
      "text/plain": [
       " [1] \"ride_id\"            \"rideable_type\"      \"started_at\"        \n",
       " [4] \"ended_at\"           \"start_station_name\" \"start_station_id\"  \n",
       " [7] \"end_station_name\"   \"end_station_id\"     \"start_lat\"         \n",
       "[10] \"start_lng\"          \"end_lat\"            \"end_lng\"           \n",
       "[13] \"member_casual\"      \"ride_length\"        \"day_of_week\"       "
      ]
     },
     "metadata": {},
     "output_type": "display_data"
    },
    {
     "data": {
      "text/html": [
       "<style>\n",
       ".list-inline {list-style: none; margin:0; padding: 0}\n",
       ".list-inline>li {display: inline-block}\n",
       ".list-inline>li:not(:last-child)::after {content: \"\\00b7\"; padding: 0 .5ex}\n",
       "</style>\n",
       "<ol class=list-inline><li>'ride_id'</li><li>'rideable_type'</li><li>'started_at'</li><li>'ended_at'</li><li>'start_station_name'</li><li>'start_station_id'</li><li>'end_station_name'</li><li>'end_station_id'</li><li>'start_lat'</li><li>'start_lng'</li><li>'end_lat'</li><li>'end_lng'</li><li>'member_casual'</li><li>'ride_length'</li><li>'day_of_week'</li></ol>\n"
      ],
      "text/latex": [
       "\\begin{enumerate*}\n",
       "\\item 'ride\\_id'\n",
       "\\item 'rideable\\_type'\n",
       "\\item 'started\\_at'\n",
       "\\item 'ended\\_at'\n",
       "\\item 'start\\_station\\_name'\n",
       "\\item 'start\\_station\\_id'\n",
       "\\item 'end\\_station\\_name'\n",
       "\\item 'end\\_station\\_id'\n",
       "\\item 'start\\_lat'\n",
       "\\item 'start\\_lng'\n",
       "\\item 'end\\_lat'\n",
       "\\item 'end\\_lng'\n",
       "\\item 'member\\_casual'\n",
       "\\item 'ride\\_length'\n",
       "\\item 'day\\_of\\_week'\n",
       "\\end{enumerate*}\n"
      ],
      "text/markdown": [
       "1. 'ride_id'\n",
       "2. 'rideable_type'\n",
       "3. 'started_at'\n",
       "4. 'ended_at'\n",
       "5. 'start_station_name'\n",
       "6. 'start_station_id'\n",
       "7. 'end_station_name'\n",
       "8. 'end_station_id'\n",
       "9. 'start_lat'\n",
       "10. 'start_lng'\n",
       "11. 'end_lat'\n",
       "12. 'end_lng'\n",
       "13. 'member_casual'\n",
       "14. 'ride_length'\n",
       "15. 'day_of_week'\n",
       "\n",
       "\n"
      ],
      "text/plain": [
       " [1] \"ride_id\"            \"rideable_type\"      \"started_at\"        \n",
       " [4] \"ended_at\"           \"start_station_name\" \"start_station_id\"  \n",
       " [7] \"end_station_name\"   \"end_station_id\"     \"start_lat\"         \n",
       "[10] \"start_lng\"          \"end_lat\"            \"end_lng\"           \n",
       "[13] \"member_casual\"      \"ride_length\"        \"day_of_week\"       "
      ]
     },
     "metadata": {},
     "output_type": "display_data"
    },
    {
     "data": {
      "text/html": [
       "<style>\n",
       ".list-inline {list-style: none; margin:0; padding: 0}\n",
       ".list-inline>li {display: inline-block}\n",
       ".list-inline>li:not(:last-child)::after {content: \"\\00b7\"; padding: 0 .5ex}\n",
       "</style>\n",
       "<ol class=list-inline><li>'ride_id'</li><li>'rideable_type'</li><li>'started_at'</li><li>'ended_at'</li><li>'start_station_name'</li><li>'start_station_id'</li><li>'end_station_name'</li><li>'end_station_id'</li><li>'start_lat'</li><li>'start_lng'</li><li>'end_lat'</li><li>'end_lng'</li><li>'member_casual'</li><li>'ride_length'</li><li>'day_of_week'</li></ol>\n"
      ],
      "text/latex": [
       "\\begin{enumerate*}\n",
       "\\item 'ride\\_id'\n",
       "\\item 'rideable\\_type'\n",
       "\\item 'started\\_at'\n",
       "\\item 'ended\\_at'\n",
       "\\item 'start\\_station\\_name'\n",
       "\\item 'start\\_station\\_id'\n",
       "\\item 'end\\_station\\_name'\n",
       "\\item 'end\\_station\\_id'\n",
       "\\item 'start\\_lat'\n",
       "\\item 'start\\_lng'\n",
       "\\item 'end\\_lat'\n",
       "\\item 'end\\_lng'\n",
       "\\item 'member\\_casual'\n",
       "\\item 'ride\\_length'\n",
       "\\item 'day\\_of\\_week'\n",
       "\\end{enumerate*}\n"
      ],
      "text/markdown": [
       "1. 'ride_id'\n",
       "2. 'rideable_type'\n",
       "3. 'started_at'\n",
       "4. 'ended_at'\n",
       "5. 'start_station_name'\n",
       "6. 'start_station_id'\n",
       "7. 'end_station_name'\n",
       "8. 'end_station_id'\n",
       "9. 'start_lat'\n",
       "10. 'start_lng'\n",
       "11. 'end_lat'\n",
       "12. 'end_lng'\n",
       "13. 'member_casual'\n",
       "14. 'ride_length'\n",
       "15. 'day_of_week'\n",
       "\n",
       "\n"
      ],
      "text/plain": [
       " [1] \"ride_id\"            \"rideable_type\"      \"started_at\"        \n",
       " [4] \"ended_at\"           \"start_station_name\" \"start_station_id\"  \n",
       " [7] \"end_station_name\"   \"end_station_id\"     \"start_lat\"         \n",
       "[10] \"start_lng\"          \"end_lat\"            \"end_lng\"           \n",
       "[13] \"member_casual\"      \"ride_length\"        \"day_of_week\"       "
      ]
     },
     "metadata": {},
     "output_type": "display_data"
    },
    {
     "data": {
      "text/html": [
       "<style>\n",
       ".list-inline {list-style: none; margin:0; padding: 0}\n",
       ".list-inline>li {display: inline-block}\n",
       ".list-inline>li:not(:last-child)::after {content: \"\\00b7\"; padding: 0 .5ex}\n",
       "</style>\n",
       "<ol class=list-inline><li>'ride_id'</li><li>'rideable_type'</li><li>'started_at'</li><li>'ended_at'</li><li>'start_station_name'</li><li>'start_station_id'</li><li>'end_station_name'</li><li>'end_station_id'</li><li>'start_lat'</li><li>'start_lng'</li><li>'end_lat'</li><li>'end_lng'</li><li>'member_casual'</li><li>'ride_length'</li><li>'day_of_week'</li></ol>\n"
      ],
      "text/latex": [
       "\\begin{enumerate*}\n",
       "\\item 'ride\\_id'\n",
       "\\item 'rideable\\_type'\n",
       "\\item 'started\\_at'\n",
       "\\item 'ended\\_at'\n",
       "\\item 'start\\_station\\_name'\n",
       "\\item 'start\\_station\\_id'\n",
       "\\item 'end\\_station\\_name'\n",
       "\\item 'end\\_station\\_id'\n",
       "\\item 'start\\_lat'\n",
       "\\item 'start\\_lng'\n",
       "\\item 'end\\_lat'\n",
       "\\item 'end\\_lng'\n",
       "\\item 'member\\_casual'\n",
       "\\item 'ride\\_length'\n",
       "\\item 'day\\_of\\_week'\n",
       "\\end{enumerate*}\n"
      ],
      "text/markdown": [
       "1. 'ride_id'\n",
       "2. 'rideable_type'\n",
       "3. 'started_at'\n",
       "4. 'ended_at'\n",
       "5. 'start_station_name'\n",
       "6. 'start_station_id'\n",
       "7. 'end_station_name'\n",
       "8. 'end_station_id'\n",
       "9. 'start_lat'\n",
       "10. 'start_lng'\n",
       "11. 'end_lat'\n",
       "12. 'end_lng'\n",
       "13. 'member_casual'\n",
       "14. 'ride_length'\n",
       "15. 'day_of_week'\n",
       "\n",
       "\n"
      ],
      "text/plain": [
       " [1] \"ride_id\"            \"rideable_type\"      \"started_at\"        \n",
       " [4] \"ended_at\"           \"start_station_name\" \"start_station_id\"  \n",
       " [7] \"end_station_name\"   \"end_station_id\"     \"start_lat\"         \n",
       "[10] \"start_lng\"          \"end_lat\"            \"end_lng\"           \n",
       "[13] \"member_casual\"      \"ride_length\"        \"day_of_week\"       "
      ]
     },
     "metadata": {},
     "output_type": "display_data"
    },
    {
     "data": {
      "text/html": [
       "<style>\n",
       ".list-inline {list-style: none; margin:0; padding: 0}\n",
       ".list-inline>li {display: inline-block}\n",
       ".list-inline>li:not(:last-child)::after {content: \"\\00b7\"; padding: 0 .5ex}\n",
       "</style>\n",
       "<ol class=list-inline><li>'ride_id'</li><li>'rideable_type'</li><li>'started_at'</li><li>'ended_at'</li><li>'start_station_name'</li><li>'start_station_id'</li><li>'end_station_name'</li><li>'end_station_id'</li><li>'start_lat'</li><li>'start_lng'</li><li>'end_lat'</li><li>'end_lng'</li><li>'member_casual'</li><li>'ride_length'</li><li>'day_of_week'</li></ol>\n"
      ],
      "text/latex": [
       "\\begin{enumerate*}\n",
       "\\item 'ride\\_id'\n",
       "\\item 'rideable\\_type'\n",
       "\\item 'started\\_at'\n",
       "\\item 'ended\\_at'\n",
       "\\item 'start\\_station\\_name'\n",
       "\\item 'start\\_station\\_id'\n",
       "\\item 'end\\_station\\_name'\n",
       "\\item 'end\\_station\\_id'\n",
       "\\item 'start\\_lat'\n",
       "\\item 'start\\_lng'\n",
       "\\item 'end\\_lat'\n",
       "\\item 'end\\_lng'\n",
       "\\item 'member\\_casual'\n",
       "\\item 'ride\\_length'\n",
       "\\item 'day\\_of\\_week'\n",
       "\\end{enumerate*}\n"
      ],
      "text/markdown": [
       "1. 'ride_id'\n",
       "2. 'rideable_type'\n",
       "3. 'started_at'\n",
       "4. 'ended_at'\n",
       "5. 'start_station_name'\n",
       "6. 'start_station_id'\n",
       "7. 'end_station_name'\n",
       "8. 'end_station_id'\n",
       "9. 'start_lat'\n",
       "10. 'start_lng'\n",
       "11. 'end_lat'\n",
       "12. 'end_lng'\n",
       "13. 'member_casual'\n",
       "14. 'ride_length'\n",
       "15. 'day_of_week'\n",
       "\n",
       "\n"
      ],
      "text/plain": [
       " [1] \"ride_id\"            \"rideable_type\"      \"started_at\"        \n",
       " [4] \"ended_at\"           \"start_station_name\" \"start_station_id\"  \n",
       " [7] \"end_station_name\"   \"end_station_id\"     \"start_lat\"         \n",
       "[10] \"start_lng\"          \"end_lat\"            \"end_lng\"           \n",
       "[13] \"member_casual\"      \"ride_length\"        \"day_of_week\"       "
      ]
     },
     "metadata": {},
     "output_type": "display_data"
    },
    {
     "data": {
      "text/html": [
       "<style>\n",
       ".list-inline {list-style: none; margin:0; padding: 0}\n",
       ".list-inline>li {display: inline-block}\n",
       ".list-inline>li:not(:last-child)::after {content: \"\\00b7\"; padding: 0 .5ex}\n",
       "</style>\n",
       "<ol class=list-inline><li>'ride_id'</li><li>'rideable_type'</li><li>'started_at'</li><li>'ended_at'</li><li>'start_station_name'</li><li>'start_station_id'</li><li>'end_station_name'</li><li>'end_station_id'</li><li>'start_lat'</li><li>'start_lng'</li><li>'end_lat'</li><li>'end_lng'</li><li>'member_casual'</li><li>'ride_length'</li><li>'day_of_week'</li></ol>\n"
      ],
      "text/latex": [
       "\\begin{enumerate*}\n",
       "\\item 'ride\\_id'\n",
       "\\item 'rideable\\_type'\n",
       "\\item 'started\\_at'\n",
       "\\item 'ended\\_at'\n",
       "\\item 'start\\_station\\_name'\n",
       "\\item 'start\\_station\\_id'\n",
       "\\item 'end\\_station\\_name'\n",
       "\\item 'end\\_station\\_id'\n",
       "\\item 'start\\_lat'\n",
       "\\item 'start\\_lng'\n",
       "\\item 'end\\_lat'\n",
       "\\item 'end\\_lng'\n",
       "\\item 'member\\_casual'\n",
       "\\item 'ride\\_length'\n",
       "\\item 'day\\_of\\_week'\n",
       "\\end{enumerate*}\n"
      ],
      "text/markdown": [
       "1. 'ride_id'\n",
       "2. 'rideable_type'\n",
       "3. 'started_at'\n",
       "4. 'ended_at'\n",
       "5. 'start_station_name'\n",
       "6. 'start_station_id'\n",
       "7. 'end_station_name'\n",
       "8. 'end_station_id'\n",
       "9. 'start_lat'\n",
       "10. 'start_lng'\n",
       "11. 'end_lat'\n",
       "12. 'end_lng'\n",
       "13. 'member_casual'\n",
       "14. 'ride_length'\n",
       "15. 'day_of_week'\n",
       "\n",
       "\n"
      ],
      "text/plain": [
       " [1] \"ride_id\"            \"rideable_type\"      \"started_at\"        \n",
       " [4] \"ended_at\"           \"start_station_name\" \"start_station_id\"  \n",
       " [7] \"end_station_name\"   \"end_station_id\"     \"start_lat\"         \n",
       "[10] \"start_lng\"          \"end_lat\"            \"end_lng\"           \n",
       "[13] \"member_casual\"      \"ride_length\"        \"day_of_week\"       "
      ]
     },
     "metadata": {},
     "output_type": "display_data"
    },
    {
     "data": {
      "text/html": [
       "<style>\n",
       ".list-inline {list-style: none; margin:0; padding: 0}\n",
       ".list-inline>li {display: inline-block}\n",
       ".list-inline>li:not(:last-child)::after {content: \"\\00b7\"; padding: 0 .5ex}\n",
       "</style>\n",
       "<ol class=list-inline><li>'ride_id'</li><li>'rideable_type'</li><li>'started_at'</li><li>'ended_at'</li><li>'start_station_name'</li><li>'start_station_id'</li><li>'end_station_name'</li><li>'end_station_id'</li><li>'start_lat'</li><li>'start_lng'</li><li>'end_lat'</li><li>'end_lng'</li><li>'member_casual'</li><li>'ride_length'</li><li>'day_of_week'</li></ol>\n"
      ],
      "text/latex": [
       "\\begin{enumerate*}\n",
       "\\item 'ride\\_id'\n",
       "\\item 'rideable\\_type'\n",
       "\\item 'started\\_at'\n",
       "\\item 'ended\\_at'\n",
       "\\item 'start\\_station\\_name'\n",
       "\\item 'start\\_station\\_id'\n",
       "\\item 'end\\_station\\_name'\n",
       "\\item 'end\\_station\\_id'\n",
       "\\item 'start\\_lat'\n",
       "\\item 'start\\_lng'\n",
       "\\item 'end\\_lat'\n",
       "\\item 'end\\_lng'\n",
       "\\item 'member\\_casual'\n",
       "\\item 'ride\\_length'\n",
       "\\item 'day\\_of\\_week'\n",
       "\\end{enumerate*}\n"
      ],
      "text/markdown": [
       "1. 'ride_id'\n",
       "2. 'rideable_type'\n",
       "3. 'started_at'\n",
       "4. 'ended_at'\n",
       "5. 'start_station_name'\n",
       "6. 'start_station_id'\n",
       "7. 'end_station_name'\n",
       "8. 'end_station_id'\n",
       "9. 'start_lat'\n",
       "10. 'start_lng'\n",
       "11. 'end_lat'\n",
       "12. 'end_lng'\n",
       "13. 'member_casual'\n",
       "14. 'ride_length'\n",
       "15. 'day_of_week'\n",
       "\n",
       "\n"
      ],
      "text/plain": [
       " [1] \"ride_id\"            \"rideable_type\"      \"started_at\"        \n",
       " [4] \"ended_at\"           \"start_station_name\" \"start_station_id\"  \n",
       " [7] \"end_station_name\"   \"end_station_id\"     \"start_lat\"         \n",
       "[10] \"start_lng\"          \"end_lat\"            \"end_lng\"           \n",
       "[13] \"member_casual\"      \"ride_length\"        \"day_of_week\"       "
      ]
     },
     "metadata": {},
     "output_type": "display_data"
    },
    {
     "data": {
      "text/html": [
       "<style>\n",
       ".list-inline {list-style: none; margin:0; padding: 0}\n",
       ".list-inline>li {display: inline-block}\n",
       ".list-inline>li:not(:last-child)::after {content: \"\\00b7\"; padding: 0 .5ex}\n",
       "</style>\n",
       "<ol class=list-inline><li>'ride_id'</li><li>'rideable_type'</li><li>'started_at'</li><li>'ended_at'</li><li>'start_station_name'</li><li>'start_station_id'</li><li>'end_station_name'</li><li>'end_station_id'</li><li>'start_lat'</li><li>'start_lng'</li><li>'end_lat'</li><li>'end_lng'</li><li>'member_casual'</li><li>'ride_length'</li><li>'day_of_week'</li></ol>\n"
      ],
      "text/latex": [
       "\\begin{enumerate*}\n",
       "\\item 'ride\\_id'\n",
       "\\item 'rideable\\_type'\n",
       "\\item 'started\\_at'\n",
       "\\item 'ended\\_at'\n",
       "\\item 'start\\_station\\_name'\n",
       "\\item 'start\\_station\\_id'\n",
       "\\item 'end\\_station\\_name'\n",
       "\\item 'end\\_station\\_id'\n",
       "\\item 'start\\_lat'\n",
       "\\item 'start\\_lng'\n",
       "\\item 'end\\_lat'\n",
       "\\item 'end\\_lng'\n",
       "\\item 'member\\_casual'\n",
       "\\item 'ride\\_length'\n",
       "\\item 'day\\_of\\_week'\n",
       "\\end{enumerate*}\n"
      ],
      "text/markdown": [
       "1. 'ride_id'\n",
       "2. 'rideable_type'\n",
       "3. 'started_at'\n",
       "4. 'ended_at'\n",
       "5. 'start_station_name'\n",
       "6. 'start_station_id'\n",
       "7. 'end_station_name'\n",
       "8. 'end_station_id'\n",
       "9. 'start_lat'\n",
       "10. 'start_lng'\n",
       "11. 'end_lat'\n",
       "12. 'end_lng'\n",
       "13. 'member_casual'\n",
       "14. 'ride_length'\n",
       "15. 'day_of_week'\n",
       "\n",
       "\n"
      ],
      "text/plain": [
       " [1] \"ride_id\"            \"rideable_type\"      \"started_at\"        \n",
       " [4] \"ended_at\"           \"start_station_name\" \"start_station_id\"  \n",
       " [7] \"end_station_name\"   \"end_station_id\"     \"start_lat\"         \n",
       "[10] \"start_lng\"          \"end_lat\"            \"end_lng\"           \n",
       "[13] \"member_casual\"      \"ride_length\"        \"day_of_week\"       "
      ]
     },
     "metadata": {},
     "output_type": "display_data"
    }
   ],
   "source": [
    "colnames(m8_2021)\n",
    "colnames(m7_2021)\n",
    "colnames(m6_2021)\n",
    "colnames(m5_2021)\n",
    "colnames(m4_2021)\n",
    "colnames(m3_2021)\n",
    "colnames(m2_2021)\n",
    "colnames(m1_2021)\n",
    "colnames(m12_2020)\n",
    "colnames(m11_2020)\n",
    "colnames(m10_2020)\n",
    "colnames(m9_2020)"
   ]
  },
  {
   "cell_type": "markdown",
   "id": "374225f0",
   "metadata": {
    "papermill": {
     "duration": 0.032724,
     "end_time": "2021-09-11T15:36:04.459954",
     "exception": false,
     "start_time": "2021-09-11T15:36:04.427230",
     "status": "completed"
    },
    "tags": []
   },
   "source": [
    "Using str() to view the data types of the columns. Realised some datatypes don't match among the dataframes."
   ]
  },
  {
   "cell_type": "code",
   "execution_count": 4,
   "id": "3630b9de",
   "metadata": {
    "execution": {
     "iopub.execute_input": "2021-09-11T15:36:04.534273Z",
     "iopub.status.busy": "2021-09-11T15:36:04.532591Z",
     "iopub.status.idle": "2021-09-11T15:36:04.896692Z",
     "shell.execute_reply": "2021-09-11T15:36:04.894689Z"
    },
    "papermill": {
     "duration": 0.401899,
     "end_time": "2021-09-11T15:36:04.896889",
     "exception": false,
     "start_time": "2021-09-11T15:36:04.494990",
     "status": "completed"
    },
    "tags": []
   },
   "outputs": [
    {
     "name": "stdout",
     "output_type": "stream",
     "text": [
      "'data.frame':\t804352 obs. of  15 variables:\n",
      " $ ride_id           : chr  \"99103BB87CC6C1BB\" \"EAFCCCFB0A3FC5A1\" \"9EF4F46C57AD234D\" \"5834D3208BFAF1DA\" ...\n",
      " $ rideable_type     : chr  \"electric_bike\" \"electric_bike\" \"electric_bike\" \"electric_bike\" ...\n",
      " $ started_at        : chr  \"10-08-21 17:15\" \"10-08-21 17:23\" \"21-08-21 2:34\" \"21-08-21 6:52\" ...\n",
      " $ ended_at          : chr  \"10-08-21 17:22\" \"10-08-21 17:39\" \"21-08-21 2:50\" \"21-08-21 7:08\" ...\n",
      " $ start_station_name: chr  \"\" \"\" \"\" \"\" ...\n",
      " $ start_station_id  : chr  \"\" \"\" \"\" \"\" ...\n",
      " $ end_station_name  : chr  \"\" \"\" \"\" \"\" ...\n",
      " $ end_station_id    : chr  \"\" \"\" \"\" \"\" ...\n",
      " $ start_lat         : num  41.8 41.8 42 42 41.8 ...\n",
      " $ start_lng         : num  -87.7 -87.7 -87.7 -87.7 -87.6 ...\n",
      " $ end_lat           : num  41.8 41.8 42 42 41.8 ...\n",
      " $ end_lng           : num  -87.7 -87.6 -87.7 -87.7 -87.6 ...\n",
      " $ member_casual     : chr  \"member\" \"member\" \"member\" \"member\" ...\n",
      " $ ride_length       : chr  \"0:06:55\" \"0:16:10\" \"0:16:13\" \"0:15:18\" ...\n",
      " $ day_of_week       : int  3 3 7 7 5 5 5 6 3 4 ...\n",
      "'data.frame':\t822410 obs. of  15 variables:\n",
      " $ ride_id           : chr  \"0A1B623926EF4E16\" \"B2D5583A5A5E76EE\" \"6F264597DDBF427A\" \"379B58EAB20E8AA5\" ...\n",
      " $ rideable_type     : chr  \"docked_bike\" \"classic_bike\" \"classic_bike\" \"classic_bike\" ...\n",
      " $ started_at        : chr  \"02-07-21 14:44\" \"07-07-21 16:57\" \"25-07-21 11:30\" \"08-07-21 22:08\" ...\n",
      " $ ended_at          : chr  \"02-07-21 15:19\" \"07-07-21 17:16\" \"25-07-21 11:48\" \"08-07-21 22:23\" ...\n",
      " $ start_station_name: chr  \"Michigan Ave & Washington St\" \"California Ave & Cortez St\" \"Wabash Ave & 16th St\" \"California Ave & Cortez St\" ...\n",
      " $ start_station_id  : chr  \"13001\" \"17660\" \"SL-012\" \"17660\" ...\n",
      " $ end_station_name  : chr  \"Halsted St & North Branch St\" \"Wood St & Hubbard St\" \"Rush St & Hubbard St\" \"Carpenter St & Huron St\" ...\n",
      " $ end_station_id    : chr  \"KA1504000117\" \"13432\" \"KA1503000044\" \"13196\" ...\n",
      " $ start_lat         : num  41.9 41.9 41.9 41.9 41.9 ...\n",
      " $ start_lng         : num  -87.6 -87.7 -87.6 -87.7 -87.7 ...\n",
      " $ end_lat           : num  41.9 41.9 41.9 41.9 41.9 ...\n",
      " $ end_lng           : num  -87.6 -87.7 -87.6 -87.7 -87.7 ...\n",
      " $ member_casual     : chr  \"casual\" \"casual\" \"member\" \"member\" ...\n",
      " $ ride_length       : chr  \"0:35:22\" \"0:18:27\" \"0:17:50\" \"0:15:02\" ...\n",
      " $ day_of_week       : int  6 4 1 5 4 5 4 7 6 5 ...\n",
      "'data.frame':\t729595 obs. of  15 variables:\n",
      " $ ride_id           : chr  \"99FEC93BA843FB20\" \"06048DCFC8520CAF\" \"9598066F68045DF2\" \"B03C0FE48C412214\" ...\n",
      " $ rideable_type     : chr  \"electric_bike\" \"electric_bike\" \"electric_bike\" \"electric_bike\" ...\n",
      " $ started_at        : chr  \"13-06-21 14:31\" \"04-06-21 11:18\" \"04-06-21 9:49\" \"03-06-21 19:56\" ...\n",
      " $ ended_at          : chr  \"13-06-21 14:34\" \"04-06-21 11:24\" \"04-06-21 9:55\" \"03-06-21 20:21\" ...\n",
      " $ start_station_name: chr  \"\" \"\" \"\" \"\" ...\n",
      " $ start_station_id  : chr  \"\" \"\" \"\" \"\" ...\n",
      " $ end_station_name  : chr  \"\" \"\" \"\" \"\" ...\n",
      " $ end_station_id    : chr  \"\" \"\" \"\" \"\" ...\n",
      " $ start_lat         : num  41.8 41.8 41.8 41.8 41.8 ...\n",
      " $ start_lng         : num  -87.6 -87.6 -87.6 -87.6 -87.6 ...\n",
      " $ end_lat           : num  41.8 41.8 41.8 41.8 41.8 ...\n",
      " $ end_lng           : num  -87.6 -87.6 -87.6 -87.6 -87.6 ...\n",
      " $ member_casual     : chr  \"member\" \"member\" \"member\" \"member\" ...\n",
      " $ ride_length       : chr  \"0:02:43\" \"0:06:17\" \"0:05:59\" \"0:25:50\" ...\n",
      " $ day_of_week       : int  1 6 6 5 6 5 5 5 5 4 ...\n",
      "'data.frame':\t531633 obs. of  15 variables:\n",
      " $ ride_id           : chr  \"C809ED75D6160B2A\" \"DD59FDCE0ACACAF3\" \"0AB83CB88C43EFC2\" \"7881AC6D39110C60\" ...\n",
      " $ rideable_type     : chr  \"electric_bike\" \"electric_bike\" \"electric_bike\" \"electric_bike\" ...\n",
      " $ started_at        : chr  \"30-05-21 11:58\" \"30-05-21 11:29\" \"30-05-21 14:24\" \"30-05-21 14:25\" ...\n",
      " $ ended_at          : chr  \"30-05-21 12:10\" \"30-05-21 12:14\" \"30-05-21 14:25\" \"30-05-21 14:41\" ...\n",
      " $ start_station_name: chr  \"\" \"\" \"\" \"\" ...\n",
      " $ start_station_id  : chr  \"\" \"\" \"\" \"\" ...\n",
      " $ end_station_name  : chr  \"\" \"\" \"\" \"\" ...\n",
      " $ end_station_id    : chr  \"\" \"\" \"\" \"\" ...\n",
      " $ start_lat         : num  41.9 41.9 41.9 41.9 41.9 ...\n",
      " $ start_lng         : num  -87.6 -87.6 -87.7 -87.7 -87.7 ...\n",
      " $ end_lat           : num  41.9 41.8 41.9 41.9 41.9 ...\n",
      " $ end_lng           : num  -87.6 -87.6 -87.7 -87.7 -87.7 ...\n",
      " $ member_casual     : chr  \"casual\" \"casual\" \"casual\" \"casual\" ...\n",
      " $ ride_length       : chr  \"0:12:24\" \"0:44:55\" \"0:01:12\" \"0:15:13\" ...\n",
      " $ day_of_week       : int  1 1 1 1 1 1 1 4 4 3 ...\n",
      "'data.frame':\t337230 obs. of  15 variables:\n",
      " $ ride_id           : chr  \"6C992BD37A98A63F\" \"1E0145613A209000\" \"E498E15508A80BAD\" \"1887262AD101C604\" ...\n",
      " $ rideable_type     : chr  \"classic_bike\" \"docked_bike\" \"docked_bike\" \"classic_bike\" ...\n",
      " $ started_at        : chr  \"12-04-21 18:25\" \"27-04-21 17:27\" \"03-04-21 12:42\" \"17-04-21 9:17\" ...\n",
      " $ ended_at          : chr  \"12-04-21 18:56\" \"27-04-21 18:31\" \"07-04-21 11:40\" \"17-04-21 9:42\" ...\n",
      " $ start_station_name: chr  \"State St & Pearson St\" \"Dorchester Ave & 49th St\" \"Loomis Blvd & 84th St\" \"Honore St & Division St\" ...\n",
      " $ start_station_id  : chr  \"TA1307000061\" \"KA1503000069\" \"20121\" \"TA1305000034\" ...\n",
      " $ end_station_name  : chr  \"Southport Ave & Waveland Ave\" \"Dorchester Ave & 49th St\" \"Loomis Blvd & 84th St\" \"Southport Ave & Waveland Ave\" ...\n",
      " $ end_station_id    : chr  \"13235\" \"KA1503000069\" \"20121\" \"13235\" ...\n",
      " $ start_lat         : num  41.9 41.8 41.7 41.9 41.7 ...\n",
      " $ start_lng         : num  -87.6 -87.6 -87.7 -87.7 -87.7 ...\n",
      " $ end_lat           : num  41.9 41.8 41.7 41.9 41.7 ...\n",
      " $ end_lng           : num  -87.7 -87.6 -87.7 -87.7 -87.7 ...\n",
      " $ member_casual     : chr  \"member\" \"casual\" \"casual\" \"member\" ...\n",
      " $ ride_length       : chr  \"0:31:19\" \"1:04:18\" \"94:57:39\" \"0:25:06\" ...\n",
      " $ day_of_week       : int  2 3 7 7 7 1 7 3 2 7 ...\n",
      "'data.frame':\t228496 obs. of  15 variables:\n",
      " $ ride_id           : chr  \"CFA86D4455AA1030\" \"30D9DC61227D1AF3\" \"846D87A15682A284\" \"994D05AA75A168F2\" ...\n",
      " $ rideable_type     : chr  \"classic_bike\" \"classic_bike\" \"classic_bike\" \"classic_bike\" ...\n",
      " $ started_at        : chr  \"16-03-21 8:32\" \"28-03-21 1:26\" \"11-03-21 21:17\" \"11-03-21 13:26\" ...\n",
      " $ ended_at          : chr  \"16-03-21 8:36\" \"28-03-21 1:36\" \"11-03-21 21:33\" \"11-03-21 13:55\" ...\n",
      " $ start_station_name: chr  \"Humboldt Blvd & Armitage Ave\" \"Humboldt Blvd & Armitage Ave\" \"Shields Ave & 28th Pl\" \"Winthrop Ave & Lawrence Ave\" ...\n",
      " $ start_station_id  : chr  \"15651\" \"15651\" \"15443\" \"TA1308000021\" ...\n",
      " $ end_station_name  : chr  \"Stave St & Armitage Ave\" \"Central Park Ave & Bloomingdale Ave\" \"Halsted St & 35th St\" \"Broadway & Sheridan Rd\" ...\n",
      " $ end_station_id    : chr  \"13266\" \"18017\" \"TA1308000043\" \"13323\" ...\n",
      " $ start_lat         : num  41.9 41.9 41.8 42 42 ...\n",
      " $ start_lng         : num  -87.7 -87.7 -87.6 -87.7 -87.7 ...\n",
      " $ end_lat           : num  41.9 41.9 41.8 42 42.1 ...\n",
      " $ end_lng           : num  -87.7 -87.7 -87.6 -87.6 -87.7 ...\n",
      " $ member_casual     : chr  \"casual\" \"casual\" \"casual\" \"casual\" ...\n",
      " $ ride_length       : chr  \"0:04:04\" \"0:10:27\" \"0:16:24\" \"0:28:59\" ...\n",
      " $ day_of_week       : int  3 1 5 5 1 7 7 3 4 5 ...\n",
      "'data.frame':\t49622 obs. of  15 variables:\n",
      " $ ride_id           : chr  \"89E7AA6C29227EFF\" \"0FEFDE2603568365\" \"E6159D746B2DBB91\" \"B32D3199F1C2E75B\" ...\n",
      " $ rideable_type     : chr  \"classic_bike\" \"classic_bike\" \"electric_bike\" \"classic_bike\" ...\n",
      " $ started_at        : chr  \"12-02-21 16:14\" \"14-02-21 17:52\" \"09-02-21 19:10\" \"02-02-21 17:49\" ...\n",
      " $ ended_at          : chr  \"12-02-21 16:21\" \"14-02-21 18:12\" \"09-02-21 19:19\" \"02-02-21 17:54\" ...\n",
      " $ start_station_name: chr  \"Glenwood Ave & Touhy Ave\" \"Glenwood Ave & Touhy Ave\" \"Clark St & Lake St\" \"Wood St & Chicago Ave\" ...\n",
      " $ start_station_id  : chr  \"525\" \"525\" \"KA1503000012\" \"637\" ...\n",
      " $ end_station_name  : chr  \"Sheridan Rd & Columbia Ave\" \"Bosworth Ave & Howard St\" \"State St & Randolph St\" \"Honore St & Division St\" ...\n",
      " $ end_station_id    : chr  \"660\" \"16806\" \"TA1305000029\" \"TA1305000034\" ...\n",
      " $ start_lat         : num  42 42 41.9 41.9 41.8 ...\n",
      " $ start_lng         : num  -87.7 -87.7 -87.6 -87.7 -87.6 ...\n",
      " $ end_lat           : num  42 42 41.9 41.9 41.8 ...\n",
      " $ end_lng           : num  -87.7 -87.7 -87.6 -87.7 -87.6 ...\n",
      " $ member_casual     : chr  \"member\" \"casual\" \"member\" \"member\" ...\n",
      " $ ride_length       : chr  \"0:06:47\" \"0:19:31\" \"0:08:52\" \"0:04:25\" ...\n",
      " $ day_of_week       : int  6 1 3 3 3 4 2 5 7 7 ...\n",
      "'data.frame':\t96834 obs. of  15 variables:\n",
      " $ ride_id           : chr  \"E19E6F1B8D4C42ED\" \"DC88F20C2C55F27F\" \"EC45C94683FE3F27\" \"4FA453A75AE377DB\" ...\n",
      " $ rideable_type     : chr  \"electric_bike\" \"electric_bike\" \"electric_bike\" \"electric_bike\" ...\n",
      " $ started_at        : chr  \"23-01-21 16:14\" \"27-01-21 18:43\" \"21-01-21 22:35\" \"07-01-21 13:31\" ...\n",
      " $ ended_at          : chr  \"23-01-21 16:24\" \"27-01-21 18:47\" \"21-01-21 22:37\" \"07-01-21 13:42\" ...\n",
      " $ start_station_name: chr  \"California Ave & Cortez St\" \"California Ave & Cortez St\" \"California Ave & Cortez St\" \"California Ave & Cortez St\" ...\n",
      " $ start_station_id  : chr  \"17660\" \"17660\" \"17660\" \"17660\" ...\n",
      " $ end_station_name  : chr  \"\" \"\" \"\" \"\" ...\n",
      " $ end_station_id    : chr  \"\" \"\" \"\" \"\" ...\n",
      " $ start_lat         : num  41.9 41.9 41.9 41.9 41.9 ...\n",
      " $ start_lng         : num  -87.7 -87.7 -87.7 -87.7 -87.7 ...\n",
      " $ end_lat           : num  41.9 41.9 41.9 41.9 41.9 ...\n",
      " $ end_lng           : num  -87.7 -87.7 -87.7 -87.7 -87.7 ...\n",
      " $ member_casual     : chr  \"member\" \"member\" \"member\" \"member\" ...\n",
      " $ ride_length       : chr  \"0:10:25\" \"0:04:04\" \"0:01:20\" \"0:11:42\" ...\n",
      " $ day_of_week       : int  7 4 5 5 7 7 2 5 7 1 ...\n",
      "'data.frame':\t131573 obs. of  15 variables:\n",
      " $ ride_id           : chr  \"70B6A9A437D4C30D\" \"158A465D4E74C54A\" \"5262016E0F1F2F9A\" \"BE119628E44F871E\" ...\n",
      " $ rideable_type     : chr  \"classic_bike\" \"electric_bike\" \"electric_bike\" \"electric_bike\" ...\n",
      " $ started_at        : chr  \"27-12-20 12:44\" \"18-12-20 17:37\" \"15-12-20 15:04\" \"15-12-20 15:54\" ...\n",
      " $ ended_at          : chr  \"27-12-20 12:55\" \"18-12-20 17:44\" \"15-12-20 15:11\" \"15-12-20 16:00\" ...\n",
      " $ start_station_name: chr  \"Aberdeen St & Jackson Blvd\" \"\" \"\" \"\" ...\n",
      " $ start_station_id  : chr  \"13157\" \"\" \"\" \"\" ...\n",
      " $ end_station_name  : chr  \"Desplaines St & Kinzie St\" \"\" \"\" \"\" ...\n",
      " $ end_station_id    : chr  \"TA1306000003\" \"\" \"\" \"\" ...\n",
      " $ start_lat         : num  41.9 41.9 41.9 41.9 41.8 ...\n",
      " $ start_lng         : num  -87.7 -87.7 -87.7 -87.7 -87.6 ...\n",
      " $ end_lat           : num  41.9 41.9 41.9 41.9 41.8 ...\n",
      " $ end_lng           : num  -87.6 -87.7 -87.7 -87.7 -87.6 ...\n",
      " $ member_casual     : chr  \"member\" \"member\" \"member\" \"member\" ...\n",
      " $ ride_length       : chr  \"0:10:37\" \"0:07:04\" \"0:06:55\" \"0:05:53\" ...\n",
      " $ day_of_week       : int  1 6 3 3 3 3 5 5 7 6 ...\n",
      "'data.frame':\t259716 obs. of  15 variables:\n",
      " $ ride_id           : chr  \"BD0A6FF6FFF9B921\" \"96A7A7A4BDE4F82D\" \"C61526D06582BDC5\" \"E533E89C32080B9E\" ...\n",
      " $ rideable_type     : chr  \"electric_bike\" \"electric_bike\" \"electric_bike\" \"electric_bike\" ...\n",
      " $ started_at        : chr  \"01-11-20 13:36\" \"01-11-20 10:03\" \"01-11-20 0:34\" \"01-11-20 0:45\" ...\n",
      " $ ended_at          : chr  \"01-11-20 13:45\" \"01-11-20 10:14\" \"01-11-20 1:03\" \"01-11-20 0:54\" ...\n",
      " $ start_station_name: chr  \"Dearborn St & Erie St\" \"Franklin St & Illinois St\" \"Lake Shore Dr & Monroe St\" \"Leavitt St & Chicago Ave\" ...\n",
      " $ start_station_id  : int  110 672 76 659 2 72 76 NA 58 394 ...\n",
      " $ end_station_name  : chr  \"St. Clair St & Erie St\" \"Noble St & Milwaukee Ave\" \"Federal St & Polk St\" \"Stave St & Armitage Ave\" ...\n",
      " $ end_station_id    : int  211 29 41 185 2 76 72 NA 288 273 ...\n",
      " $ start_lat         : num  41.9 41.9 41.9 41.9 41.9 ...\n",
      " $ start_lng         : num  -87.6 -87.6 -87.6 -87.7 -87.6 ...\n",
      " $ end_lat           : num  41.9 41.9 41.9 41.9 41.9 ...\n",
      " $ end_lng           : num  -87.6 -87.7 -87.6 -87.7 -87.6 ...\n",
      " $ member_casual     : chr  \"casual\" \"casual\" \"casual\" \"casual\" ...\n",
      " $ ride_length       : chr  \"0:09:40\" \"0:11:19\" \"0:29:01\" \"0:09:15\" ...\n",
      " $ day_of_week       : int  1 1 1 1 1 7 7 7 7 7 ...\n",
      "'data.frame':\t388653 obs. of  15 variables:\n",
      " $ ride_id           : chr  \"ACB6B40CF5B9044C\" \"DF450C72FD109C01\" \"B6396B54A15AC0DF\" \"44A4AEE261B9E854\" ...\n",
      " $ rideable_type     : chr  \"electric_bike\" \"electric_bike\" \"electric_bike\" \"electric_bike\" ...\n",
      " $ started_at        : chr  \"31-10-20 19:39\" \"31-10-20 23:50\" \"31-10-20 23:00\" \"31-10-20 22:16\" ...\n",
      " $ ended_at          : chr  \"31-10-20 19:57\" \"01-11-20 0:04\" \"31-10-20 23:08\" \"31-10-20 22:19\" ...\n",
      " $ start_station_name: chr  \"Lakeview Ave & Fullerton Pkwy\" \"Southport Ave & Waveland Ave\" \"Stony Island Ave & 67th St\" \"Clark St & Grace St\" ...\n",
      " $ start_station_id  : int  313 227 102 165 190 359 313 125 NA 174 ...\n",
      " $ end_station_name  : chr  \"Rush St & Hubbard St\" \"Kedzie Ave & Milwaukee Ave\" \"University Ave & 57th St\" \"Broadway & Sheridan Rd\" ...\n",
      " $ end_station_id    : int  125 260 423 256 185 53 125 313 199 635 ...\n",
      " $ start_lat         : num  41.9 41.9 41.8 42 41.9 ...\n",
      " $ start_lng         : num  -87.6 -87.7 -87.6 -87.7 -87.7 ...\n",
      " $ end_lat           : num  41.9 41.9 41.8 42 41.9 ...\n",
      " $ end_lng           : num  -87.6 -87.7 -87.6 -87.7 -87.7 ...\n",
      " $ member_casual     : chr  \"casual\" \"casual\" \"casual\" \"casual\" ...\n",
      " $ ride_length       : chr  \"0:17:29\" \"0:14:08\" \"0:08:21\" \"0:02:52\" ...\n",
      " $ day_of_week       : int  7 7 7 7 7 5 5 5 4 5 ...\n",
      "'data.frame':\t532958 obs. of  15 variables:\n",
      " $ ride_id           : chr  \"2B22BD5F95FB2629\" \"A7FB70B4AFC6CAF2\" \"86057FA01BAC778E\" \"57F6DC9A153DB98C\" ...\n",
      " $ rideable_type     : chr  \"electric_bike\" \"electric_bike\" \"electric_bike\" \"electric_bike\" ...\n",
      " $ started_at        : chr  \"17-09-20 14:27\" \"17-09-20 15:07\" \"17-09-20 15:09\" \"17-09-20 18:10\" ...\n",
      " $ ended_at          : chr  \"17-09-20 14:44\" \"17-09-20 15:07\" \"17-09-20 15:09\" \"17-09-20 18:35\" ...\n",
      " $ start_station_name: chr  \"Michigan Ave & Lake St\" \"W Oakdale Ave & N Broadway\" \"W Oakdale Ave & N Broadway\" \"Ashland Ave & Belle Plaine Ave\" ...\n",
      " $ start_station_id  : int  52 NA NA 246 24 94 291 NA NA NA ...\n",
      " $ end_station_name  : chr  \"Green St & Randolph St\" \"W Oakdale Ave & N Broadway\" \"W Oakdale Ave & N Broadway\" \"Montrose Harbor\" ...\n",
      " $ end_station_id    : int  112 NA NA 249 24 NA 256 NA NA NA ...\n",
      " $ start_lat         : num  41.9 41.9 41.9 42 41.9 ...\n",
      " $ start_lng         : num  -87.6 -87.6 -87.6 -87.7 -87.6 ...\n",
      " $ end_lat           : num  41.9 41.9 41.9 42 41.9 ...\n",
      " $ end_lng           : num  -87.6 -87.6 -87.6 -87.6 -87.6 ...\n",
      " $ member_casual     : chr  \"casual\" \"casual\" \"casual\" \"casual\" ...\n",
      " $ ride_length       : chr  \"0:17:13\" \"0:00:14\" \"0:00:31\" \"0:25:03\" ...\n",
      " $ day_of_week       : int  5 5 5 5 5 5 4 5 5 5 ...\n"
     ]
    }
   ],
   "source": [
    "str(m8_2021)\n",
    "str(m7_2021)\n",
    "str(m6_2021)\n",
    "str(m5_2021)\n",
    "str(m4_2021)\n",
    "str(m3_2021)\n",
    "str(m2_2021)\n",
    "str(m1_2021)\n",
    "str(m12_2020)\n",
    "str(m11_2020)\n",
    "str(m10_2020)\n",
    "str(m9_2020)"
   ]
  },
  {
   "cell_type": "markdown",
   "id": "55e306f3",
   "metadata": {
    "papermill": {
     "duration": 0.037303,
     "end_time": "2021-09-11T15:36:04.972412",
     "exception": false,
     "start_time": "2021-09-11T15:36:04.935109",
     "status": "completed"
    },
    "tags": []
   },
   "source": [
    "Converting data types of start_station_id and end_station_id from integer to character so dataframes could stack properly. Using mutate() and as.character() and then reassigning the result into the dataframes."
   ]
  },
  {
   "cell_type": "code",
   "execution_count": 5,
   "id": "6fce9449",
   "metadata": {
    "execution": {
     "iopub.execute_input": "2021-09-11T15:36:05.056063Z",
     "iopub.status.busy": "2021-09-11T15:36:05.053498Z",
     "iopub.status.idle": "2021-09-11T15:36:05.111227Z",
     "shell.execute_reply": "2021-09-11T15:36:05.109014Z"
    },
    "papermill": {
     "duration": 0.101462,
     "end_time": "2021-09-11T15:36:05.111422",
     "exception": false,
     "start_time": "2021-09-11T15:36:05.009960",
     "status": "completed"
    },
    "tags": []
   },
   "outputs": [],
   "source": [
    "m11_2020 <-  mutate(m11_2020, start_station_id  = as.character(start_station_id )\n",
    "                   ,end_station_id = as.character(end_station_id)) \n",
    "m10_2020 <-  mutate(m10_2020, start_station_id  = as.character(start_station_id )\n",
    "                   ,end_station_id = as.character(end_station_id)) \n",
    "m9_2020 <-  mutate(m9_2020, start_station_id  = as.character(start_station_id )\n",
    "                   ,end_station_id = as.character(end_station_id))"
   ]
  },
  {
   "cell_type": "markdown",
   "id": "c3436739",
   "metadata": {
    "papermill": {
     "duration": 0.048018,
     "end_time": "2021-09-11T15:36:05.201252",
     "exception": false,
     "start_time": "2021-09-11T15:36:05.153234",
     "status": "completed"
    },
    "tags": []
   },
   "source": [
    "Stacking the dataframes into one using bind_rows(). Using head to view the top few rows of the combined dataframe."
   ]
  },
  {
   "cell_type": "code",
   "execution_count": 6,
   "id": "5846349d",
   "metadata": {
    "execution": {
     "iopub.execute_input": "2021-09-11T15:36:05.296641Z",
     "iopub.status.busy": "2021-09-11T15:36:05.293700Z",
     "iopub.status.idle": "2021-09-11T15:36:11.089658Z",
     "shell.execute_reply": "2021-09-11T15:36:11.087650Z"
    },
    "papermill": {
     "duration": 5.841129,
     "end_time": "2021-09-11T15:36:11.089854",
     "exception": false,
     "start_time": "2021-09-11T15:36:05.248725",
     "status": "completed"
    },
    "tags": []
   },
   "outputs": [
    {
     "data": {
      "text/html": [
       "<table class=\"dataframe\">\n",
       "<caption>A data.frame: 6 × 15</caption>\n",
       "<thead>\n",
       "\t<tr><th></th><th scope=col>ride_id</th><th scope=col>rideable_type</th><th scope=col>started_at</th><th scope=col>ended_at</th><th scope=col>start_station_name</th><th scope=col>start_station_id</th><th scope=col>end_station_name</th><th scope=col>end_station_id</th><th scope=col>start_lat</th><th scope=col>start_lng</th><th scope=col>end_lat</th><th scope=col>end_lng</th><th scope=col>member_casual</th><th scope=col>ride_length</th><th scope=col>day_of_week</th></tr>\n",
       "\t<tr><th></th><th scope=col>&lt;chr&gt;</th><th scope=col>&lt;chr&gt;</th><th scope=col>&lt;chr&gt;</th><th scope=col>&lt;chr&gt;</th><th scope=col>&lt;chr&gt;</th><th scope=col>&lt;chr&gt;</th><th scope=col>&lt;chr&gt;</th><th scope=col>&lt;chr&gt;</th><th scope=col>&lt;dbl&gt;</th><th scope=col>&lt;dbl&gt;</th><th scope=col>&lt;dbl&gt;</th><th scope=col>&lt;dbl&gt;</th><th scope=col>&lt;chr&gt;</th><th scope=col>&lt;chr&gt;</th><th scope=col>&lt;int&gt;</th></tr>\n",
       "</thead>\n",
       "<tbody>\n",
       "\t<tr><th scope=row>1</th><td>2B22BD5F95FB2629</td><td>electric_bike</td><td>17-09-20 14:27</td><td>17-09-20 14:44</td><td><span style=white-space:pre-wrap>Michigan Ave &amp; Lake St        </span></td><td>52 </td><td><span style=white-space:pre-wrap>Green St &amp; Randolph St    </span></td><td>112</td><td>41.88669</td><td>-87.62356</td><td>41.88357</td><td>-87.64873</td><td>casual</td><td>0:17:13</td><td>5</td></tr>\n",
       "\t<tr><th scope=row>2</th><td>A7FB70B4AFC6CAF2</td><td>electric_bike</td><td>17-09-20 15:07</td><td>17-09-20 15:07</td><td><span style=white-space:pre-wrap>W Oakdale Ave &amp; N Broadway    </span></td><td>NA </td><td>W Oakdale Ave &amp; N Broadway</td><td>NA </td><td>41.94000</td><td>-87.64000</td><td>41.94000</td><td>-87.64000</td><td>casual</td><td>0:00:14</td><td>5</td></tr>\n",
       "\t<tr><th scope=row>3</th><td>86057FA01BAC778E</td><td>electric_bike</td><td>17-09-20 15:09</td><td>17-09-20 15:09</td><td><span style=white-space:pre-wrap>W Oakdale Ave &amp; N Broadway    </span></td><td>NA </td><td>W Oakdale Ave &amp; N Broadway</td><td>NA </td><td>41.94000</td><td>-87.64000</td><td>41.94000</td><td>-87.64000</td><td>casual</td><td>0:00:31</td><td>5</td></tr>\n",
       "\t<tr><th scope=row>4</th><td>57F6DC9A153DB98C</td><td>electric_bike</td><td>17-09-20 18:10</td><td>17-09-20 18:35</td><td>Ashland Ave &amp; Belle Plaine Ave</td><td>246</td><td><span style=white-space:pre-wrap>Montrose Harbor           </span></td><td>249</td><td>41.95606</td><td>-87.66892</td><td>41.96398</td><td>-87.63822</td><td>casual</td><td>0:25:03</td><td>5</td></tr>\n",
       "\t<tr><th scope=row>5</th><td>B9C4712F78C1AE68</td><td>electric_bike</td><td>17-09-20 15:16</td><td>17-09-20 15:52</td><td><span style=white-space:pre-wrap>Fairbanks Ct &amp; Grand Ave      </span></td><td>24 </td><td><span style=white-space:pre-wrap>Fairbanks Ct &amp; Grand Ave  </span></td><td>24 </td><td>41.89186</td><td>-87.62101</td><td>41.89135</td><td>-87.62032</td><td>casual</td><td>0:36:42</td><td>5</td></tr>\n",
       "\t<tr><th scope=row>6</th><td>378BBCE1E444EB80</td><td>electric_bike</td><td>17-09-20 18:37</td><td>17-09-20 19:23</td><td><span style=white-space:pre-wrap>Clark St &amp; Armitage Ave       </span></td><td>94 </td><td><span style=white-space:pre-wrap>                          </span></td><td>NA </td><td>41.91826</td><td>-87.63636</td><td>41.88000</td><td>-87.62000</td><td>casual</td><td>0:46:24</td><td>5</td></tr>\n",
       "</tbody>\n",
       "</table>\n"
      ],
      "text/latex": [
       "A data.frame: 6 × 15\n",
       "\\begin{tabular}{r|lllllllllllllll}\n",
       "  & ride\\_id & rideable\\_type & started\\_at & ended\\_at & start\\_station\\_name & start\\_station\\_id & end\\_station\\_name & end\\_station\\_id & start\\_lat & start\\_lng & end\\_lat & end\\_lng & member\\_casual & ride\\_length & day\\_of\\_week\\\\\n",
       "  & <chr> & <chr> & <chr> & <chr> & <chr> & <chr> & <chr> & <chr> & <dbl> & <dbl> & <dbl> & <dbl> & <chr> & <chr> & <int>\\\\\n",
       "\\hline\n",
       "\t1 & 2B22BD5F95FB2629 & electric\\_bike & 17-09-20 14:27 & 17-09-20 14:44 & Michigan Ave \\& Lake St         & 52  & Green St \\& Randolph St     & 112 & 41.88669 & -87.62356 & 41.88357 & -87.64873 & casual & 0:17:13 & 5\\\\\n",
       "\t2 & A7FB70B4AFC6CAF2 & electric\\_bike & 17-09-20 15:07 & 17-09-20 15:07 & W Oakdale Ave \\& N Broadway     & NA  & W Oakdale Ave \\& N Broadway & NA  & 41.94000 & -87.64000 & 41.94000 & -87.64000 & casual & 0:00:14 & 5\\\\\n",
       "\t3 & 86057FA01BAC778E & electric\\_bike & 17-09-20 15:09 & 17-09-20 15:09 & W Oakdale Ave \\& N Broadway     & NA  & W Oakdale Ave \\& N Broadway & NA  & 41.94000 & -87.64000 & 41.94000 & -87.64000 & casual & 0:00:31 & 5\\\\\n",
       "\t4 & 57F6DC9A153DB98C & electric\\_bike & 17-09-20 18:10 & 17-09-20 18:35 & Ashland Ave \\& Belle Plaine Ave & 246 & Montrose Harbor            & 249 & 41.95606 & -87.66892 & 41.96398 & -87.63822 & casual & 0:25:03 & 5\\\\\n",
       "\t5 & B9C4712F78C1AE68 & electric\\_bike & 17-09-20 15:16 & 17-09-20 15:52 & Fairbanks Ct \\& Grand Ave       & 24  & Fairbanks Ct \\& Grand Ave   & 24  & 41.89186 & -87.62101 & 41.89135 & -87.62032 & casual & 0:36:42 & 5\\\\\n",
       "\t6 & 378BBCE1E444EB80 & electric\\_bike & 17-09-20 18:37 & 17-09-20 19:23 & Clark St \\& Armitage Ave        & 94  &                            & NA  & 41.91826 & -87.63636 & 41.88000 & -87.62000 & casual & 0:46:24 & 5\\\\\n",
       "\\end{tabular}\n"
      ],
      "text/markdown": [
       "\n",
       "A data.frame: 6 × 15\n",
       "\n",
       "| <!--/--> | ride_id &lt;chr&gt; | rideable_type &lt;chr&gt; | started_at &lt;chr&gt; | ended_at &lt;chr&gt; | start_station_name &lt;chr&gt; | start_station_id &lt;chr&gt; | end_station_name &lt;chr&gt; | end_station_id &lt;chr&gt; | start_lat &lt;dbl&gt; | start_lng &lt;dbl&gt; | end_lat &lt;dbl&gt; | end_lng &lt;dbl&gt; | member_casual &lt;chr&gt; | ride_length &lt;chr&gt; | day_of_week &lt;int&gt; |\n",
       "|---|---|---|---|---|---|---|---|---|---|---|---|---|---|---|---|\n",
       "| 1 | 2B22BD5F95FB2629 | electric_bike | 17-09-20 14:27 | 17-09-20 14:44 | Michigan Ave &amp; Lake St         | 52  | Green St &amp; Randolph St     | 112 | 41.88669 | -87.62356 | 41.88357 | -87.64873 | casual | 0:17:13 | 5 |\n",
       "| 2 | A7FB70B4AFC6CAF2 | electric_bike | 17-09-20 15:07 | 17-09-20 15:07 | W Oakdale Ave &amp; N Broadway     | NA  | W Oakdale Ave &amp; N Broadway | NA  | 41.94000 | -87.64000 | 41.94000 | -87.64000 | casual | 0:00:14 | 5 |\n",
       "| 3 | 86057FA01BAC778E | electric_bike | 17-09-20 15:09 | 17-09-20 15:09 | W Oakdale Ave &amp; N Broadway     | NA  | W Oakdale Ave &amp; N Broadway | NA  | 41.94000 | -87.64000 | 41.94000 | -87.64000 | casual | 0:00:31 | 5 |\n",
       "| 4 | 57F6DC9A153DB98C | electric_bike | 17-09-20 18:10 | 17-09-20 18:35 | Ashland Ave &amp; Belle Plaine Ave | 246 | Montrose Harbor            | 249 | 41.95606 | -87.66892 | 41.96398 | -87.63822 | casual | 0:25:03 | 5 |\n",
       "| 5 | B9C4712F78C1AE68 | electric_bike | 17-09-20 15:16 | 17-09-20 15:52 | Fairbanks Ct &amp; Grand Ave       | 24  | Fairbanks Ct &amp; Grand Ave   | 24  | 41.89186 | -87.62101 | 41.89135 | -87.62032 | casual | 0:36:42 | 5 |\n",
       "| 6 | 378BBCE1E444EB80 | electric_bike | 17-09-20 18:37 | 17-09-20 19:23 | Clark St &amp; Armitage Ave        | 94  | <!----> | NA  | 41.91826 | -87.63636 | 41.88000 | -87.62000 | casual | 0:46:24 | 5 |\n",
       "\n"
      ],
      "text/plain": [
       "  ride_id          rideable_type started_at     ended_at      \n",
       "1 2B22BD5F95FB2629 electric_bike 17-09-20 14:27 17-09-20 14:44\n",
       "2 A7FB70B4AFC6CAF2 electric_bike 17-09-20 15:07 17-09-20 15:07\n",
       "3 86057FA01BAC778E electric_bike 17-09-20 15:09 17-09-20 15:09\n",
       "4 57F6DC9A153DB98C electric_bike 17-09-20 18:10 17-09-20 18:35\n",
       "5 B9C4712F78C1AE68 electric_bike 17-09-20 15:16 17-09-20 15:52\n",
       "6 378BBCE1E444EB80 electric_bike 17-09-20 18:37 17-09-20 19:23\n",
       "  start_station_name             start_station_id end_station_name          \n",
       "1 Michigan Ave & Lake St         52               Green St & Randolph St    \n",
       "2 W Oakdale Ave & N Broadway     NA               W Oakdale Ave & N Broadway\n",
       "3 W Oakdale Ave & N Broadway     NA               W Oakdale Ave & N Broadway\n",
       "4 Ashland Ave & Belle Plaine Ave 246              Montrose Harbor           \n",
       "5 Fairbanks Ct & Grand Ave       24               Fairbanks Ct & Grand Ave  \n",
       "6 Clark St & Armitage Ave        94                                         \n",
       "  end_station_id start_lat start_lng end_lat  end_lng   member_casual\n",
       "1 112            41.88669  -87.62356 41.88357 -87.64873 casual       \n",
       "2 NA             41.94000  -87.64000 41.94000 -87.64000 casual       \n",
       "3 NA             41.94000  -87.64000 41.94000 -87.64000 casual       \n",
       "4 249            41.95606  -87.66892 41.96398 -87.63822 casual       \n",
       "5 24             41.89186  -87.62101 41.89135 -87.62032 casual       \n",
       "6 NA             41.91826  -87.63636 41.88000 -87.62000 casual       \n",
       "  ride_length day_of_week\n",
       "1 0:17:13     5          \n",
       "2 0:00:14     5          \n",
       "3 0:00:31     5          \n",
       "4 0:25:03     5          \n",
       "5 0:36:42     5          \n",
       "6 0:46:24     5          "
      ]
     },
     "metadata": {},
     "output_type": "display_data"
    }
   ],
   "source": [
    "all_trips <- bind_rows(m9_2020, m10_2020, m11_2020, m12_2020, m1_2021, m2_2021, m3_2021, m4_2021, m5_2021, m6_2021, m7_2021, m8_2021)\n",
    "head(all_trips)"
   ]
  },
  {
   "cell_type": "markdown",
   "id": "c3f98ef8",
   "metadata": {
    "papermill": {
     "duration": 0.038852,
     "end_time": "2021-09-11T15:36:11.167180",
     "exception": false,
     "start_time": "2021-09-11T15:36:11.128328",
     "status": "completed"
    },
    "tags": []
   },
   "source": [
    "## iii) Inspect and tranform the data\n",
    "nrow() shows the total number of trips and summary() gives some general statistics about the entire dataframe."
   ]
  },
  {
   "cell_type": "code",
   "execution_count": 7,
   "id": "7087d97e",
   "metadata": {
    "execution": {
     "iopub.execute_input": "2021-09-11T15:36:11.255562Z",
     "iopub.status.busy": "2021-09-11T15:36:11.253550Z",
     "iopub.status.idle": "2021-09-11T15:36:16.199936Z",
     "shell.execute_reply": "2021-09-11T15:36:16.197702Z"
    },
    "papermill": {
     "duration": 4.994693,
     "end_time": "2021-09-11T15:36:16.200202",
     "exception": false,
     "start_time": "2021-09-11T15:36:11.205509",
     "status": "completed"
    },
    "tags": []
   },
   "outputs": [
    {
     "name": "stdout",
     "output_type": "stream",
     "text": [
      "'data.frame':\t4913072 obs. of  15 variables:\n",
      " $ ride_id           : chr  \"2B22BD5F95FB2629\" \"A7FB70B4AFC6CAF2\" \"86057FA01BAC778E\" \"57F6DC9A153DB98C\" ...\n",
      " $ rideable_type     : chr  \"electric_bike\" \"electric_bike\" \"electric_bike\" \"electric_bike\" ...\n",
      " $ started_at        : chr  \"17-09-20 14:27\" \"17-09-20 15:07\" \"17-09-20 15:09\" \"17-09-20 18:10\" ...\n",
      " $ ended_at          : chr  \"17-09-20 14:44\" \"17-09-20 15:07\" \"17-09-20 15:09\" \"17-09-20 18:35\" ...\n",
      " $ start_station_name: chr  \"Michigan Ave & Lake St\" \"W Oakdale Ave & N Broadway\" \"W Oakdale Ave & N Broadway\" \"Ashland Ave & Belle Plaine Ave\" ...\n",
      " $ start_station_id  : chr  \"52\" NA NA \"246\" ...\n",
      " $ end_station_name  : chr  \"Green St & Randolph St\" \"W Oakdale Ave & N Broadway\" \"W Oakdale Ave & N Broadway\" \"Montrose Harbor\" ...\n",
      " $ end_station_id    : chr  \"112\" NA NA \"249\" ...\n",
      " $ start_lat         : num  41.9 41.9 41.9 42 41.9 ...\n",
      " $ start_lng         : num  -87.6 -87.6 -87.6 -87.7 -87.6 ...\n",
      " $ end_lat           : num  41.9 41.9 41.9 42 41.9 ...\n",
      " $ end_lng           : num  -87.6 -87.6 -87.6 -87.6 -87.6 ...\n",
      " $ member_casual     : chr  \"casual\" \"casual\" \"casual\" \"casual\" ...\n",
      " $ ride_length       : chr  \"0:17:13\" \"0:00:14\" \"0:00:31\" \"0:25:03\" ...\n",
      " $ day_of_week       : int  5 5 5 5 5 5 4 5 5 5 ...\n"
     ]
    },
    {
     "data": {
      "text/html": [
       "4913072"
      ],
      "text/latex": [
       "4913072"
      ],
      "text/markdown": [
       "4913072"
      ],
      "text/plain": [
       "[1] 4913072"
      ]
     },
     "metadata": {},
     "output_type": "display_data"
    },
    {
     "data": {
      "text/plain": [
       "   ride_id          rideable_type       started_at          ended_at        \n",
       " Length:4913072     Length:4913072     Length:4913072     Length:4913072    \n",
       " Class :character   Class :character   Class :character   Class :character  \n",
       " Mode  :character   Mode  :character   Mode  :character   Mode  :character  \n",
       "                                                                            \n",
       "                                                                            \n",
       "                                                                            \n",
       "                                                                            \n",
       " start_station_name start_station_id   end_station_name   end_station_id    \n",
       " Length:4913072     Length:4913072     Length:4913072     Length:4913072    \n",
       " Class :character   Class :character   Class :character   Class :character  \n",
       " Mode  :character   Mode  :character   Mode  :character   Mode  :character  \n",
       "                                                                            \n",
       "                                                                            \n",
       "                                                                            \n",
       "                                                                            \n",
       "   start_lat       start_lng         end_lat         end_lng      \n",
       " Min.   :41.64   Min.   :-87.84   Min.   :41.51   Min.   :-88.07  \n",
       " 1st Qu.:41.88   1st Qu.:-87.66   1st Qu.:41.88   1st Qu.:-87.66  \n",
       " Median :41.90   Median :-87.64   Median :41.90   Median :-87.64  \n",
       " Mean   :41.90   Mean   :-87.65   Mean   :41.90   Mean   :-87.64  \n",
       " 3rd Qu.:41.93   3rd Qu.:-87.63   3rd Qu.:41.93   3rd Qu.:-87.63  \n",
       " Max.   :42.08   Max.   :-87.52   Max.   :42.15   Max.   :-87.44  \n",
       "                                  NA's   :5015    NA's   :5015    \n",
       " member_casual      ride_length         day_of_week   \n",
       " Length:4913072     Length:4913072     Min.   :1.000  \n",
       " Class :character   Class :character   1st Qu.:2.000  \n",
       " Mode  :character   Mode  :character   Median :4.000  \n",
       "                                       Mean   :4.121  \n",
       "                                       3rd Qu.:6.000  \n",
       "                                       Max.   :7.000  \n",
       "                                                      "
      ]
     },
     "metadata": {},
     "output_type": "display_data"
    }
   ],
   "source": [
    "str(all_trips)\n",
    "nrow(all_trips)\n",
    "summary(all_trips)"
   ]
  },
  {
   "cell_type": "markdown",
   "id": "5f49bedd",
   "metadata": {
    "papermill": {
     "duration": 0.044636,
     "end_time": "2021-09-11T15:36:16.296095",
     "exception": false,
     "start_time": "2021-09-11T15:36:16.251459",
     "status": "completed"
    },
    "tags": []
   },
   "source": [
    "Adding a table showing the proportions of casual riders and members. This shows that the number of members is higher than the number of casual riders but not by that much. Perhaps there is some potential for converting casual riders into members. We need to perform more analyses to understand their uses though."
   ]
  },
  {
   "cell_type": "code",
   "execution_count": 8,
   "id": "9e3248f0",
   "metadata": {
    "execution": {
     "iopub.execute_input": "2021-09-11T15:36:16.381241Z",
     "iopub.status.busy": "2021-09-11T15:36:16.379638Z",
     "iopub.status.idle": "2021-09-11T15:36:17.424155Z",
     "shell.execute_reply": "2021-09-11T15:36:17.422386Z"
    },
    "papermill": {
     "duration": 1.088875,
     "end_time": "2021-09-11T15:36:17.424352",
     "exception": false,
     "start_time": "2021-09-11T15:36:16.335477",
     "status": "completed"
    },
    "tags": []
   },
   "outputs": [
    {
     "data": {
      "text/plain": [
       "\n",
       " casual  member \n",
       "2225089 2687983 "
      ]
     },
     "metadata": {},
     "output_type": "display_data"
    }
   ],
   "source": [
    "table(all_trips$member_casual)"
   ]
  },
  {
   "cell_type": "markdown",
   "id": "aed09117",
   "metadata": {
    "papermill": {
     "duration": 0.039579,
     "end_time": "2021-09-11T15:36:17.504663",
     "exception": false,
     "start_time": "2021-09-11T15:36:17.465084",
     "status": "completed"
    },
    "tags": []
   },
   "source": [
    "Breaking down date into smaller time periods for more aggregate statistics to be drawn. Using as.Date() to convert started_at column into separate month, day and year columns. Make sure to add the format so the new columns pick up the correct numeric values of days, months and years."
   ]
  },
  {
   "cell_type": "code",
   "execution_count": 9,
   "id": "594cf5f4",
   "metadata": {
    "execution": {
     "iopub.execute_input": "2021-09-11T15:36:17.592761Z",
     "iopub.status.busy": "2021-09-11T15:36:17.590687Z",
     "iopub.status.idle": "2021-09-11T15:37:27.953778Z",
     "shell.execute_reply": "2021-09-11T15:37:27.952320Z"
    },
    "papermill": {
     "duration": 70.410251,
     "end_time": "2021-09-11T15:37:27.954164",
     "exception": false,
     "start_time": "2021-09-11T15:36:17.543913",
     "status": "completed"
    },
    "tags": []
   },
   "outputs": [],
   "source": [
    "all_trips$date <- as.Date(all_trips$started_at,format = \"%d-%m-%y\") \n",
    "all_trips$month <- format(as.Date(all_trips$date), \"%m\")\n",
    "all_trips$day <- format(as.Date(all_trips$date), \"%d\")\n",
    "all_trips$year <- format(as.Date(all_trips$date), \"%Y\")\n",
    "all_trips$day_of_week <- format(as.Date(all_trips$date), \"%A\")\n",
    "end <- strptime(as.character(all_trips$ended_at), \"%d-%m-%y %H:%M\")\n",
    "end <- format(end, \"%Y-%m-%d %H:%M\")\n",
    "start <- strptime(as.character(all_trips$started_at), \"%d-%m-%y %H:%M\")\n",
    "start <- format(start, \"%Y-%m-%d %H:%M\")\n",
    "all_trips$ride_length <- difftime(end,start)"
   ]
  },
  {
   "cell_type": "markdown",
   "id": "0c4dc6e1",
   "metadata": {
    "papermill": {
     "duration": 0.041148,
     "end_time": "2021-09-11T15:37:28.036481",
     "exception": false,
     "start_time": "2021-09-11T15:37:27.995333",
     "status": "completed"
    },
    "tags": []
   },
   "source": [
    "Turning ride_length into a numeric for calculations to be done later."
   ]
  },
  {
   "cell_type": "code",
   "execution_count": 10,
   "id": "a4056ca7",
   "metadata": {
    "execution": {
     "iopub.execute_input": "2021-09-11T15:37:28.123296Z",
     "iopub.status.busy": "2021-09-11T15:37:28.121533Z",
     "iopub.status.idle": "2021-09-11T15:37:34.429193Z",
     "shell.execute_reply": "2021-09-11T15:37:34.427495Z"
    },
    "papermill": {
     "duration": 6.353005,
     "end_time": "2021-09-11T15:37:34.429393",
     "exception": false,
     "start_time": "2021-09-11T15:37:28.076388",
     "status": "completed"
    },
    "tags": []
   },
   "outputs": [],
   "source": [
    "all_trips$ride_length <- as.numeric(as.character(all_trips$ride_length))"
   ]
  },
  {
   "cell_type": "markdown",
   "id": "49d1da94",
   "metadata": {
    "papermill": {
     "duration": 0.041699,
     "end_time": "2021-09-11T15:37:34.512162",
     "exception": false,
     "start_time": "2021-09-11T15:37:34.470463",
     "status": "completed"
    },
    "tags": []
   },
   "source": [
    "After studying the data, we realised that some of the trips in the dataset are not actual trips taken by customers. They correspond to bikes being taken out of circulation for Quality Control reasons. Remove those along with some showing a negative trip duration. Store the remaining data into version 2 all_trips_v2."
   ]
  },
  {
   "cell_type": "code",
   "execution_count": 11,
   "id": "7054f21d",
   "metadata": {
    "execution": {
     "iopub.execute_input": "2021-09-11T15:37:34.600336Z",
     "iopub.status.busy": "2021-09-11T15:37:34.598718Z",
     "iopub.status.idle": "2021-09-11T15:37:39.312784Z",
     "shell.execute_reply": "2021-09-11T15:37:39.310256Z"
    },
    "papermill": {
     "duration": 4.759726,
     "end_time": "2021-09-11T15:37:39.313019",
     "exception": false,
     "start_time": "2021-09-11T15:37:34.553293",
     "status": "completed"
    },
    "tags": []
   },
   "outputs": [],
   "source": [
    "all_trips_v2 <- all_trips[!(all_trips$start_station_name == \"HQ QR\" | all_trips$ride_length<0),]"
   ]
  },
  {
   "cell_type": "markdown",
   "id": "6b38866f",
   "metadata": {
    "papermill": {
     "duration": 0.039819,
     "end_time": "2021-09-11T15:37:39.395230",
     "exception": false,
     "start_time": "2021-09-11T15:37:39.355411",
     "status": "completed"
    },
    "tags": []
   },
   "source": [
    "## iv) Generate descriptive statistics for the new dataset\n",
    "Present summary of trips data including mean and median of ride duration."
   ]
  },
  {
   "cell_type": "code",
   "execution_count": 12,
   "id": "710b7ba1",
   "metadata": {
    "execution": {
     "iopub.execute_input": "2021-09-11T15:37:39.487066Z",
     "iopub.status.busy": "2021-09-11T15:37:39.485701Z",
     "iopub.status.idle": "2021-09-11T15:37:39.658615Z",
     "shell.execute_reply": "2021-09-11T15:37:39.657159Z"
    },
    "papermill": {
     "duration": 0.223794,
     "end_time": "2021-09-11T15:37:39.658784",
     "exception": false,
     "start_time": "2021-09-11T15:37:39.434990",
     "status": "completed"
    },
    "tags": []
   },
   "outputs": [
    {
     "data": {
      "text/html": [
       "1401.40179567959"
      ],
      "text/latex": [
       "1401.40179567959"
      ],
      "text/markdown": [
       "1401.40179567959"
      ],
      "text/plain": [
       "[1] 1401.402"
      ]
     },
     "metadata": {},
     "output_type": "display_data"
    },
    {
     "data": {
      "text/html": [
       "780"
      ],
      "text/latex": [
       "780"
      ],
      "text/markdown": [
       "780"
      ],
      "text/plain": [
       "[1] 780"
      ]
     },
     "metadata": {},
     "output_type": "display_data"
    }
   ],
   "source": [
    "mean(all_trips_v2$ride_length)\n",
    "median(all_trips_v2$ride_length)"
   ]
  },
  {
   "cell_type": "markdown",
   "id": "3bd99154",
   "metadata": {
    "papermill": {
     "duration": 0.041111,
     "end_time": "2021-09-11T15:37:39.741199",
     "exception": false,
     "start_time": "2021-09-11T15:37:39.700088",
     "status": "completed"
    },
    "tags": []
   },
   "source": [
    "Compare summary statistics between members and casual riders."
   ]
  },
  {
   "cell_type": "code",
   "execution_count": 13,
   "id": "0c744166",
   "metadata": {
    "execution": {
     "iopub.execute_input": "2021-09-11T15:37:39.830259Z",
     "iopub.status.busy": "2021-09-11T15:37:39.828700Z",
     "iopub.status.idle": "2021-09-11T15:37:48.651822Z",
     "shell.execute_reply": "2021-09-11T15:37:48.650070Z"
    },
    "papermill": {
     "duration": 8.869036,
     "end_time": "2021-09-11T15:37:48.651999",
     "exception": false,
     "start_time": "2021-09-11T15:37:39.782963",
     "status": "completed"
    },
    "tags": []
   },
   "outputs": [
    {
     "data": {
      "text/html": [
       "<table class=\"dataframe\">\n",
       "<caption>A data.frame: 2 × 2</caption>\n",
       "<thead>\n",
       "\t<tr><th scope=col>all_trips_v2$member_casual</th><th scope=col>all_trips_v2$ride_length</th></tr>\n",
       "\t<tr><th scope=col>&lt;chr&gt;</th><th scope=col>&lt;dbl&gt;</th></tr>\n",
       "</thead>\n",
       "<tbody>\n",
       "\t<tr><td>casual</td><td>2052.3469</td></tr>\n",
       "\t<tr><td>member</td><td> 862.3444</td></tr>\n",
       "</tbody>\n",
       "</table>\n"
      ],
      "text/latex": [
       "A data.frame: 2 × 2\n",
       "\\begin{tabular}{ll}\n",
       " all\\_trips\\_v2\\$member\\_casual & all\\_trips\\_v2\\$ride\\_length\\\\\n",
       " <chr> & <dbl>\\\\\n",
       "\\hline\n",
       "\t casual & 2052.3469\\\\\n",
       "\t member &  862.3444\\\\\n",
       "\\end{tabular}\n"
      ],
      "text/markdown": [
       "\n",
       "A data.frame: 2 × 2\n",
       "\n",
       "| all_trips_v2$member_casual &lt;chr&gt; | all_trips_v2$ride_length &lt;dbl&gt; |\n",
       "|---|---|\n",
       "| casual | 2052.3469 |\n",
       "| member |  862.3444 |\n",
       "\n"
      ],
      "text/plain": [
       "  all_trips_v2$member_casual all_trips_v2$ride_length\n",
       "1 casual                     2052.3469               \n",
       "2 member                      862.3444               "
      ]
     },
     "metadata": {},
     "output_type": "display_data"
    },
    {
     "data": {
      "text/html": [
       "<table class=\"dataframe\">\n",
       "<caption>A data.frame: 2 × 2</caption>\n",
       "<thead>\n",
       "\t<tr><th scope=col>all_trips_v2$member_casual</th><th scope=col>all_trips_v2$ride_length</th></tr>\n",
       "\t<tr><th scope=col>&lt;chr&gt;</th><th scope=col>&lt;dbl&gt;</th></tr>\n",
       "</thead>\n",
       "<tbody>\n",
       "\t<tr><td>casual</td><td>1020</td></tr>\n",
       "\t<tr><td>member</td><td> 600</td></tr>\n",
       "</tbody>\n",
       "</table>\n"
      ],
      "text/latex": [
       "A data.frame: 2 × 2\n",
       "\\begin{tabular}{ll}\n",
       " all\\_trips\\_v2\\$member\\_casual & all\\_trips\\_v2\\$ride\\_length\\\\\n",
       " <chr> & <dbl>\\\\\n",
       "\\hline\n",
       "\t casual & 1020\\\\\n",
       "\t member &  600\\\\\n",
       "\\end{tabular}\n"
      ],
      "text/markdown": [
       "\n",
       "A data.frame: 2 × 2\n",
       "\n",
       "| all_trips_v2$member_casual &lt;chr&gt; | all_trips_v2$ride_length &lt;dbl&gt; |\n",
       "|---|---|\n",
       "| casual | 1020 |\n",
       "| member |  600 |\n",
       "\n"
      ],
      "text/plain": [
       "  all_trips_v2$member_casual all_trips_v2$ride_length\n",
       "1 casual                     1020                    \n",
       "2 member                      600                    "
      ]
     },
     "metadata": {},
     "output_type": "display_data"
    }
   ],
   "source": [
    "aggregate(all_trips_v2$ride_length ~ all_trips_v2$member_casual, FUN = mean)\n",
    "aggregate(all_trips_v2$ride_length ~ all_trips_v2$member_casual, FUN = median)"
   ]
  },
  {
   "cell_type": "markdown",
   "id": "36458f90",
   "metadata": {
    "papermill": {
     "duration": 0.042171,
     "end_time": "2021-09-11T15:37:48.738087",
     "exception": false,
     "start_time": "2021-09-11T15:37:48.695916",
     "status": "completed"
    },
    "tags": []
   },
   "source": [
    "Ordering the dataframe by days of the week for plotting later."
   ]
  },
  {
   "cell_type": "code",
   "execution_count": 14,
   "id": "8094313e",
   "metadata": {
    "execution": {
     "iopub.execute_input": "2021-09-11T15:37:48.829629Z",
     "iopub.status.busy": "2021-09-11T15:37:48.828246Z",
     "iopub.status.idle": "2021-09-11T15:37:48.903919Z",
     "shell.execute_reply": "2021-09-11T15:37:48.902639Z"
    },
    "papermill": {
     "duration": 0.123267,
     "end_time": "2021-09-11T15:37:48.904095",
     "exception": false,
     "start_time": "2021-09-11T15:37:48.780828",
     "status": "completed"
    },
    "tags": []
   },
   "outputs": [],
   "source": [
    "all_trips_v2$day_of_week <- ordered(all_trips_v2$day_of_week, levels=c(\"Sunday\", \"Monday\", \"Tuesday\", \"Wednesday\", \"Thursday\", \"Friday\", \"Saturday\"))"
   ]
  },
  {
   "cell_type": "markdown",
   "id": "1c358899",
   "metadata": {
    "papermill": {
     "duration": 0.042786,
     "end_time": "2021-09-11T15:37:48.990241",
     "exception": false,
     "start_time": "2021-09-11T15:37:48.947455",
     "status": "completed"
    },
    "tags": []
   },
   "source": [
    "Creating bar charts using ggplot() to visualise the number of rides by rider type for the days of the week. group_by() group observations into groups according to the rider type and weekday; summarise() calculates the summary statistics that are used for plotting, arrange() sort the data in order; ggplot() initialises the plotting layer; aes() maps the data elements to an aesthetics layer and geom_col() asks for a column plot."
   ]
  },
  {
   "cell_type": "code",
   "execution_count": 15,
   "id": "c2f9d96f",
   "metadata": {
    "execution": {
     "iopub.execute_input": "2021-09-11T15:37:49.081290Z",
     "iopub.status.busy": "2021-09-11T15:37:49.079540Z",
     "iopub.status.idle": "2021-09-11T15:39:14.746690Z",
     "shell.execute_reply": "2021-09-11T15:39:14.744946Z"
    },
    "papermill": {
     "duration": 85.714097,
     "end_time": "2021-09-11T15:39:14.746865",
     "exception": false,
     "start_time": "2021-09-11T15:37:49.032768",
     "status": "completed"
    },
    "tags": []
   },
   "outputs": [
    {
     "name": "stderr",
     "output_type": "stream",
     "text": [
      "`summarise()` has grouped output by 'member_casual'. You can override using the `.groups` argument.\n",
      "\n"
     ]
    },
    {
     "data": {
      "image/png": "[encoded data removed]"
     },
     "metadata": {
      "image/png": {
       "height": 420,
       "width": 420
      }
     },
     "output_type": "display_data"
    }
   ],
   "source": [
    "all_trips_v2 %>% \n",
    "  mutate(weekday = wday(started_at, label = TRUE)) %>% \n",
    "  group_by(member_casual, weekday) %>% \n",
    "  summarise(number_of_rides = n()\n",
    "            ,average_duration = mean(as.numeric(ride_length))) %>%\n",
    "  arrange(member_casual, weekday)  %>% \n",
    "  ggplot(aes(x = weekday, y = number_of_rides, fill = member_casual)) +\n",
    "  geom_col(position = \"dodge\")"
   ]
  },
  {
   "cell_type": "markdown",
   "id": "61507af3",
   "metadata": {
    "papermill": {
     "duration": 0.043391,
     "end_time": "2021-09-11T15:39:14.835730",
     "exception": false,
     "start_time": "2021-09-11T15:39:14.792339",
     "status": "completed"
    },
    "tags": []
   },
   "source": [
    "Similarly, this creates bar charts using ggplot() to visualise the average duration by rider type for the days of the week."
   ]
  },
  {
   "cell_type": "code",
   "execution_count": 16,
   "id": "4f70dfe9",
   "metadata": {
    "execution": {
     "iopub.execute_input": "2021-09-11T15:39:14.930829Z",
     "iopub.status.busy": "2021-09-11T15:39:14.928424Z",
     "iopub.status.idle": "2021-09-11T15:40:38.462918Z",
     "shell.execute_reply": "2021-09-11T15:40:38.461077Z"
    },
    "papermill": {
     "duration": 83.584249,
     "end_time": "2021-09-11T15:40:38.463217",
     "exception": false,
     "start_time": "2021-09-11T15:39:14.878968",
     "status": "completed"
    },
    "tags": []
   },
   "outputs": [
    {
     "name": "stderr",
     "output_type": "stream",
     "text": [
      "`summarise()` has grouped output by 'member_casual'. You can override using the `.groups` argument.\n",
      "\n"
     ]
    },
    {
     "data": {
      "image/png": "[encoded data removed]"
     },
     "metadata": {
      "image/png": {
       "height": 420,
       "width": 420
      }
     },
     "output_type": "display_data"
    }
   ],
   "source": [
    "all_trips_v2 %>% \n",
    "  mutate(weekday = wday(started_at, label = TRUE)) %>% \n",
    "  group_by(member_casual, weekday) %>% \n",
    "  summarise(number_of_rides = n()\n",
    "            ,average_duration = mean(ride_length)) %>% \n",
    "  arrange(member_casual, weekday)  %>% \n",
    "  ggplot(aes(x = weekday, y = average_duration, fill = member_casual)) +\n",
    "  geom_col(position = \"dodge\")"
   ]
  },
  {
   "cell_type": "markdown",
   "id": "2e5900c2",
   "metadata": {
    "papermill": {
     "duration": 0.045142,
     "end_time": "2021-09-11T15:40:38.559029",
     "exception": false,
     "start_time": "2021-09-11T15:40:38.513887",
     "status": "completed"
    },
    "tags": []
   },
   "source": [
    "## 5) Share Phase\n",
    "The 'number_of_rides vs weekday' figure shows that the average duration of ride for casual users is on average, four to five times that of member rides. This seems to support our assumption that casual riders use the bikes for leisure and travel around the city whereas members use it for shorter commutes. For the one-off uses, there usually are options of fees for the users. Generally, customers should be able to choose to pay for minute-based or hour-based rates. This allows flexibility that tailors to the customers' needs. By analysing the average duration, Cyclistic could strategically set their price points. This could be done to boost duration per transaction or increase profit margin per transaction. Both are incentives that the finance team could look into further. From this visualisation, it is clear that casual riders and members have large difference in usage of the bike service. This is a discouraging sign for Moreno as it means converting casual riders into members could be more difficult than previsouly thought.  \n",
    "\n",
    "The 'average-duration vs weekday' shows that throughout the one year period, the number of rides by members outweigh that of casual riders no matter the day of the week. However, the margin between the two groups is relatively small as they remain in the same order of magnitude. This suggests there will be large marginal gain if the casual riders were turned into members. This supports Moreno's hypothesis that we should focus marketing strategy in converting casual riders to members. However, one thing that is overlooked is the pricing of the casual bike share scheme versus that of membership. Without knowing the price, one could not concretely conclude that converting more riders into members will lead to higher profit. Furthermore, if we assume that most members use Cyclistic with the purpose of commute regularly use the service during weekdays, the number of rides during weekdays should be scaled down. As one single member could accumulate to ten rides per week assuming he/she travels to and from work five days per week. With the data, due to privacy issue, we could not trace ride\\_id to a user. This means we could not perform the re-scaling. This leads to the number\\_of\\_rides data being inflated. In the case where we could scale down the weekday-data, it would be possible that the number of casual rides actually is higher than member rides instead. If that were the case, then Moreno's case would be further supported as there is a larger proportion of one-off users then. Converting them to regular customers will definitely promote future growth."
   ]
  },
  {
   "cell_type": "markdown",
   "id": "3e567f46",
   "metadata": {
    "papermill": {
     "duration": 0.045608,
     "end_time": "2021-09-11T15:40:38.649837",
     "exception": false,
     "start_time": "2021-09-11T15:40:38.604229",
     "status": "completed"
    },
    "tags": []
   },
   "source": [
    "## 6) Act Phase\n",
    "\n",
    "This has been a very brief analysis with only the ride transaction data. There is still room for improvement with more in-depth analyses in sub-segments of the data. More data other than internal business data is also beneficial. It is important to keep in mind that data in the last twelve months is heavily impacted by the ongoing pandemic. Local lockdowns or virus restrictions could have affected the number of rides people could take. Guidance to 'work from home' reduces daily commute to work so member rides are lowered dramatically. These factors could affect the numbers and shift our decision-making process. To better understand the situation, it would be appropriate to analyses a few more years of data. Nonetheless, the insights provided could serve as a guide for Cyclistic. Here we propose three recommendation plans. \n",
    "\n",
    "Recommendation 1: Include data regarding customers' details and pricing of the services. The former could be difficult to achieve due to privacy issue. Private data is kept internally with Divvy and there is hardly any open source data that could be used as alternatives given the nicheness of the market. With only the number of rides in a year, we could not calculate the revenue distribution between the two rider types. Hence, we need to gather more data before making justified decisions.\n",
    "\n",
    "Recommendation 2: Focus on pricing strategies by creating statistical models with regards to the casual rider duration. This allows minute-based and hour-based rates to be set optimally to maximise profit. Further data could be gathered after an A/B test of the newly designed pricing to observe their performance. If the casual rider sector were to perform better, one could strategise for a shift from membership plan to one-off uses only.\n",
    "\n",
    "Recommendation 3: Carry out marketing plan to encourage more membership uptake. As the proportion of number of rides between the two sectors seem to be relatively even, with a little pricing deviations, Cyclistic could incentivise more users to sign up for annual memberships. Marketing plans could be done within the mobile application or using social media platforms. Further data could be gathered to measure metrics such as click-through rate to quantify which marketing scheme is the most influential."
   ]
  }
 ],
 "metadata": {
  "kernelspec": {
   "display_name": "R",
   "language": "R",
   "name": "ir"
  },
  "language_info": {
   "codemirror_mode": "r",
   "file_extension": ".r",
   "mimetype": "text/x-r-source",
   "name": "R",
   "pygments_lexer": "r",
   "version": "4.0.5"
  },
  "papermill": {
   "default_parameters": {},
   "duration": 362.208701,
   "end_time": "2021-09-11T15:40:38.909242",
   "environment_variables": {},
   "exception": null,
   "input_path": "__notebook__.ipynb",
   "output_path": "__notebook__.ipynb",
   "parameters": {},
   "start_time": "2021-09-11T15:34:36.700541",
   "version": "2.3.3"
  }
 },
 "nbformat": 4,
 "nbformat_minor": 5
}
